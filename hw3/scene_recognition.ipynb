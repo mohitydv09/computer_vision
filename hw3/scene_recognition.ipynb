{
 "cells": [
  {
   "cell_type": "code",
   "execution_count": 82,
   "metadata": {},
   "outputs": [],
   "source": [
    "import os\n",
    "import numpy as np\n",
    "import cv2\n",
    "import matplotlib.pyplot as plt\n",
    "from sklearn.neighbors import NearestNeighbors\n",
    "from sklearn.cluster import KMeans\n",
    "from sklearn.svm import LinearSVC\n",
    "from scipy import stats\n",
    "from pathlib import Path, PureWindowsPath"
   ]
  },
  {
   "cell_type": "code",
   "execution_count": 83,
   "metadata": {},
   "outputs": [],
   "source": [
    "def extract_dataset_info(data_path):\n",
    "    # extract information from train.txt\n",
    "    f = open(os.path.join(data_path, \"train.txt\"), \"r\")\n",
    "    contents_train = f.readlines()\n",
    "    label_classes, label_train_list, img_train_list = [], [], []\n",
    "    for sample in contents_train:\n",
    "        sample = sample.split()\n",
    "        label, img_path = sample[0], sample[1]\n",
    "        if label not in label_classes:\n",
    "            label_classes.append(label)\n",
    "        label_train_list.append(sample[0])\n",
    "        img_train_list.append(os.path.join(data_path, Path(PureWindowsPath(img_path))))\n",
    "    print('Classes: {}'.format(label_classes))\n",
    "\n",
    "    # extract information from test.txt\n",
    "    f = open(os.path.join(data_path, \"test.txt\"), \"r\")\n",
    "    contents_test = f.readlines()\n",
    "    label_test_list, img_test_list = [], []\n",
    "    for sample in contents_test:\n",
    "        sample = sample.split()\n",
    "        label, img_path = sample[0], sample[1]\n",
    "        label_test_list.append(label)\n",
    "        img_test_list.append(os.path.join(data_path, Path(PureWindowsPath(img_path))))  # you can directly use img_path if you run in Windows\n",
    "\n",
    "    return label_classes, label_train_list, img_train_list, label_test_list, img_test_list"
   ]
  },
  {
   "cell_type": "code",
   "execution_count": 90,
   "metadata": {},
   "outputs": [
    {
     "name": "stdout",
     "output_type": "stream",
     "text": [
      "(4, 128)\n"
     ]
    }
   ],
   "source": [
    "def compute_dsift(img):\n",
    "    # To do\n",
    "    # Create a sift object.\n",
    "    sift = cv2.SIFT_create()\n",
    "\n",
    "    # Stride and Size.\n",
    "    stride = 200\n",
    "    size = 8\n",
    "\n",
    "    # print(\"Shape of image : \", img.shape)\n",
    "    u = [i for i in range(0, img.shape[1]-size+1,stride)]   # Plus one was done to consider the last line\n",
    "    v = [i for i in range(0, img.shape[0]-size+1, stride)]\n",
    "    X, Y = np.meshgrid(u,v)\n",
    "    X = (X.ravel() + size//2).astype(float)\n",
    "    Y = (Y.ravel() + size//2).astype(float)\n",
    "    # print(X)\n",
    "    # print(Y)\n",
    "\n",
    "    # Make Keypoints where you want to calculate the Descriptor.\n",
    "    keypoints = [cv2.KeyPoint(x, y, size) for (x, y) in zip(X , Y)]\n",
    "\n",
    "    # Make the descriptors for all the keypoints locations.\n",
    "    keypoints, dense_feature = sift.compute(img, keypoints)\n",
    "\n",
    "    return dense_feature\n",
    "\n",
    "img = cv2.imread(\"image_0043.jpg\",0)\n",
    "dense_features = compute_dsift(img)\n",
    "print(dense_features.shape)"
   ]
  },
  {
   "cell_type": "code",
   "execution_count": 85,
   "metadata": {},
   "outputs": [
    {
     "data": {
      "image/png": "[encoded data removed]",
      "text/plain": [
       "<Figure size 250x250 with 1 Axes>"
      ]
     },
     "metadata": {},
     "output_type": "display_data"
    }
   ],
   "source": [
    "def get_tiny_image(img, output_size):\n",
    "    # To do\n",
    "    # img is gray scale image. numpy array.\n",
    "    # output size will be a tuple of size w,h.\n",
    "\n",
    "    hor_window_size = img.shape[1] // output_size[1]\n",
    "    vert_window_size = img.shape[0] // output_size[0]\n",
    "    feature = np.zeros((output_size))\n",
    "    for row in range(output_size[0]):\n",
    "        for col in range(output_size[1]):\n",
    "            # print(\"Item here : \\n\", img[row*vert_window_size :(row+1)*vert_window_size , col*hor_window_size : (col+1)*hor_window_size] )\n",
    "            feature[row,col] = np.mean(img[row*vert_window_size :(row+1)*vert_window_size , col*hor_window_size : (col+1)*hor_window_size])\n",
    "\n",
    "    # feature = feature/(hor_window_size*vert_window_size)\n",
    "    # Normalize the image.\n",
    "\n",
    "    # print(\"Feature without Norm : \", feature)\n",
    "    # print(\"mean of features  : \", np.mean(feature))\n",
    "    # print(\"Max of features : \", np.max(feature))\n",
    "    # print(\"Min of features : \", np.min(feature))\n",
    "    # feature = (feature - np.mean(feature)) / np.std(feature)\n",
    "    # feature = (feature - np.mean(feature)) / np.max(feature)\n",
    "    feature = (feature - np.mean(feature)) / 255\n",
    "    # print(\"Normalization is incomplete check afterwards.\")\n",
    "    # print(\"Feature matrix normalized : \", feature)\n",
    "\n",
    "    return feature\n",
    "\n",
    "img = cv2.imread(\"image_0043.jpg\",0)\n",
    "# plt.imshow(img, cmap='grey')\n",
    "output_size = (16,16)\n",
    "tiny_image = get_tiny_image(img, output_size)\n",
    "fig = plt.figure(figsize=(2.5,2.5))\n",
    "plt.imshow(tiny_image, cmap='grey')\n",
    "\n",
    "# Trial array.\n",
    "flat = np.array([i for i in range(256)])\n",
    "array = flat.reshape((16,16))\n",
    "# plt.imshow(array,cmap='grey')"
   ]
  },
  {
   "cell_type": "code",
   "execution_count": 86,
   "metadata": {},
   "outputs": [],
   "source": [
    "def predict_knn(feature_train, label_train, feature_test, k):\n",
    "    # To do\n",
    "\n",
    "    # Initialize kNN.\n",
    "    neigh = NearestNeighbors(n_neighbors=k)\n",
    "    neigh.fit(feature_train,label_train)\n",
    "\n",
    "    dist, indices = neigh.kneighbors(feature_test)\n",
    "    # print(\"Shape of predict KNN : \", indices.shape)\n",
    "    # print(\"Indices in predict knn : \", indices)\n",
    "    \n",
    "    # label_test_pred = label_train[indices]\n",
    "    label_test_pred = [label_train[i] for i in indices[:,0]]\n",
    "    \n",
    "    return label_test_pred"
   ]
  },
  {
   "cell_type": "code",
   "execution_count": 87,
   "metadata": {},
   "outputs": [
    {
     "ename": "KeyboardInterrupt",
     "evalue": "",
     "output_type": "error",
     "traceback": [
      "\u001b[0;31m---------------------------------------------------------------------------\u001b[0m",
      "\u001b[0;31mKeyboardInterrupt\u001b[0m                         Traceback (most recent call last)",
      "Cell \u001b[0;32mIn[87], line 56\u001b[0m\n\u001b[1;32m     52\u001b[0m     visualize_confusion_matrix(confusion, accuracy, label_classes)\n\u001b[1;32m     54\u001b[0m     \u001b[38;5;28;01mreturn\u001b[39;00m confusion, accuracy\n\u001b[0;32m---> 56\u001b[0m classify_knn_tiny(label_classes, label_train_list, img_train_list, label_test_list, img_test_list)\n",
      "Cell \u001b[0;32mIn[87], line 16\u001b[0m, in \u001b[0;36mclassify_knn_tiny\u001b[0;34m(label_classes, label_train_list, img_train_list, label_test_list, img_test_list)\u001b[0m\n\u001b[1;32m     14\u001b[0m feature_train \u001b[38;5;241m=\u001b[39m np\u001b[38;5;241m.\u001b[39mzeros((\u001b[38;5;28mlen\u001b[39m(img_train_list), output_size[\u001b[38;5;241m0\u001b[39m]\u001b[38;5;241m*\u001b[39moutput_size[\u001b[38;5;241m1\u001b[39m]))\n\u001b[1;32m     15\u001b[0m \u001b[38;5;28;01mfor\u001b[39;00m i,path_img \u001b[38;5;129;01min\u001b[39;00m \u001b[38;5;28menumerate\u001b[39m(img_train_list):\n\u001b[0;32m---> 16\u001b[0m     img \u001b[38;5;241m=\u001b[39m cv2\u001b[38;5;241m.\u001b[39mimread(path_img,\u001b[38;5;241m0\u001b[39m) \u001b[38;5;66;03m# Read Image, 0 to read as greyscale.\u001b[39;00m\n\u001b[1;32m     17\u001b[0m     feature_train[i,:] \u001b[38;5;241m=\u001b[39m get_tiny_image(img, output_size)\u001b[38;5;241m.\u001b[39mflatten()   \u001b[38;5;66;03m# Get features using tiny image funtion.\u001b[39;00m\n\u001b[1;32m     19\u001b[0m \u001b[38;5;66;03m# Get the tiny image of all the test items.\u001b[39;00m\n",
      "\u001b[0;31mKeyboardInterrupt\u001b[0m: "
     ]
    }
   ],
   "source": [
    "def classify_knn_tiny(label_classes, label_train_list, img_train_list, label_test_list, img_test_list):\n",
    "    # To do\n",
    "\n",
    "    output_size = (16,16)\n",
    "\n",
    "    # Map labels to integers.\n",
    "    label_map = {key : value+1 for value, key in enumerate(label_classes)}\n",
    "    label_train_int = np.array([label_map[item] for item in label_train_list])\n",
    "    label_test_int = np.array([label_map[item] for item in label_test_list])\n",
    "\n",
    "    label_classes_int = np.array([label_map[item] for item in label_classes])\n",
    "\n",
    "    # Get the tiny image of all the train items.\n",
    "    feature_train = np.zeros((len(img_train_list), output_size[0]*output_size[1]))\n",
    "    for i,path_img in enumerate(img_train_list):\n",
    "        img = cv2.imread(path_img,0) # Read Image, 0 to read as greyscale.\n",
    "        feature_train[i,:] = get_tiny_image(img, output_size).flatten()   # Get features using tiny image funtion.\n",
    "\n",
    "    # Get the tiny image of all the test items.\n",
    "    feature_test = np.zeros((len(img_test_list), output_size[0]*output_size[1]))\n",
    "    for i,path_img in enumerate(img_test_list):\n",
    "        img = cv2.imread(path_img,0) # 0 to read as greyscale.\n",
    "        feature_test[i,:] = get_tiny_image(img, output_size).flatten()\n",
    "    \n",
    "    # Predict labels for the test images.\n",
    "    k_neighbour = 1\n",
    "    label_test_pred = predict_knn(feature_train, label_test_int, feature_test, k_neighbour)\n",
    "\n",
    "    print(\"Label test Pred : \", label_test_pred)\n",
    "\n",
    "    # Make the confusion Matrix.\n",
    "    confusion = np.zeros((len(label_classes), len(label_classes)))\n",
    "    for row,cls in enumerate(label_classes_int):\n",
    "        # Get the indices where test data has this item.(ground truth)\n",
    "        # print(\"Row is : \", row, \" Cls is : \", cls)\n",
    "        indices = np.where(label_test_int == cls)[0]\n",
    "        # print(\"Len of indices in the loop  : \", len(indices))\n",
    "        # Get the predictions for this class of data.\n",
    "        preds_temp = np.array([label_test_pred[i] for i in indices])\n",
    "        # print('preds temps : ', preds_temp)\n",
    "        for col in range(len(label_classes)):\n",
    "            # True label for this is cls.\n",
    "            # confusion[row,col] = np.sum(np.where(preds_temp == label_classes_int[col])) / len(indices)\n",
    "            confusion[row,col] = np.sum(preds_temp == label_classes_int[col]) / len(indices)\n",
    "            # print(\"Confusion Value is : \", confusion[row,col])\n",
    "\n",
    "    # confusion[0,14] = 1\n",
    "    print(\"Max in confution matrix : \", np.max(confusion))\n",
    "    # Find the accuracy as mean of the correct predictions.\n",
    "    accuracy = np.mean(np.diagonal(confusion))\n",
    "\n",
    "    visualize_confusion_matrix(confusion, accuracy, label_classes)\n",
    "\n",
    "    return confusion, accuracy\n",
    "\n",
    "classify_knn_tiny(label_classes, label_train_list, img_train_list, label_test_list, img_test_list)"
   ]
  },
  {
   "cell_type": "code",
   "execution_count": 92,
   "metadata": {},
   "outputs": [
    {
     "name": "stdout",
     "output_type": "stream",
     "text": [
      "Shape and Size of Dense Features :  (5956, 128)\n"
     ]
    }
   ],
   "source": [
    "def build_visual_dictionary(dense_feature_list, dict_size):\n",
    "    # To do\n",
    "\n",
    "    # For each Image, compute dense SIFT over regular grid.\n",
    "\n",
    "    ## Assume that dense_feature_list is list of training images.\n",
    "    # Get the dense features image of all the train items.\n",
    "    dense_features = np.empty((0,128))\n",
    "    for i,path_img in enumerate(dense_feature_list):\n",
    "        img = cv2.imread(path_img,0) # Read Image, 0 to read as greyscale.\n",
    "        features = compute_dsift(img)\n",
    "        dense_features = np.vstack((dense_features, features))\n",
    "        \n",
    "    print(\"Shape and Size of Dense Features : \", dense_features.shape)\n",
    "    \n",
    "    # Initialize a kmean object.\n",
    "    kmeans = KMeans(n_clusters=dict_size, init='random', n_init=10 ,max_iter=300)\n",
    "    # Fit the data into kmeans.\n",
    "    kmeans.fit(dense_features)\n",
    "\n",
    "    vocab = kmeans.cluster_centers_\n",
    "    return vocab\n",
    "\n",
    "dict_size = 50\n",
    "vocab = build_visual_dictionary(img_train_list, 50)"
   ]
  },
  {
   "cell_type": "code",
   "execution_count": 104,
   "metadata": {},
   "outputs": [],
   "source": [
    "def compute_bow(feature, vocab):\n",
    "    # To do\n",
    "\n",
    "    # Find the nearest word to item from feature to vocab.\n",
    "    # Initailize a nearest neighbour object.\n",
    "    neigh = NearestNeighbors(n_neighbors=1)\n",
    "    neigh.fit(vocab)\n",
    "    distance, indices = neigh.kneighbors(feature)\n",
    "\n",
    "    # bow_feature = [np.sum(indices == i) for i in range(vocab.shape[0])]\n",
    "    bow_feature = np.bincount(indices[:,0], minlength=vocab.shape[0])\n",
    "    # print(\"Bow feature : \", bow_feature)\n",
    "    # print(\"Len of bow : \" , len(bow_feature))\n",
    "\n",
    "    # Normalize the bow_features.\n",
    "    bow_feature = bow_feature / np.linalg.norm(bow_feature)\n",
    "\n",
    "    # print(bow_feature)\n",
    "\n",
    "    return bow_feature\n",
    "\n",
    "img = cv2.imread(\"image_0043.jpg\",0)\n",
    "feature = compute_dsift(img)\n",
    "bow_feature = compute_bow(feature, vocab)"
   ]
  },
  {
   "cell_type": "code",
   "execution_count": null,
   "metadata": {},
   "outputs": [],
   "source": [
    "def classify_knn_bow(label_classes, label_train_list, img_train_list, label_test_list, img_test_list):\n",
    "    # To do\n",
    "    \n",
    "    visualize_confusion_matrix(confusion, accuracy, label_classes)\n",
    "    return confusion, accuracy"
   ]
  },
  {
   "cell_type": "code",
   "execution_count": null,
   "metadata": {},
   "outputs": [],
   "source": [
    "def predict_svm(feature_train, label_train, feature_test, n_classes):\n",
    "    # To do\n",
    "    return label_test_pred"
   ]
  },
  {
   "cell_type": "code",
   "execution_count": null,
   "metadata": {},
   "outputs": [],
   "source": [
    "def classify_svm_bow(label_classes, label_train_list, img_train_list, label_test_list, img_test_list):\n",
    "    # To do\n",
    "    visualize_confusion_matrix(confusion, accuracy, label_classes)\n",
    "    return confusion, accuracy"
   ]
  },
  {
   "cell_type": "code",
   "execution_count": null,
   "metadata": {},
   "outputs": [],
   "source": [
    "def visualize_confusion_matrix(confusion, accuracy, label_classes):\n",
    "    plt.title(\"accuracy = {:.3f}\".format(accuracy))\n",
    "    plt.imshow(confusion)\n",
    "    ax, fig = plt.gca(), plt.gcf()\n",
    "    plt.xticks(np.arange(len(label_classes)), label_classes)\n",
    "    plt.yticks(np.arange(len(label_classes)), label_classes)\n",
    "    # set horizontal alignment mode (left, right or center) and rotation mode(anchor or default)\n",
    "    plt.setp(ax.get_xticklabels(), rotation=-30, ha=\"center\", rotation_mode=\"default\")\n",
    "    # avoid top and bottom part of heatmap been cut\n",
    "    ax.set_xticks(np.arange(len(label_classes) + 1) - .5, minor=True)\n",
    "    ax.set_yticks(np.arange(len(label_classes) + 1) - .5, minor=True)\n",
    "    ax.tick_params(which=\"minor\", bottom=False, left=False)\n",
    "    fig.tight_layout()\n",
    "    plt.show()"
   ]
  },
  {
   "cell_type": "code",
   "execution_count": null,
   "metadata": {},
   "outputs": [
    {
     "name": "stdout",
     "output_type": "stream",
     "text": [
      "Classes: ['Kitchen', 'Store', 'Bedroom', 'LivingRoom', 'Office', 'Industrial', 'Suburb', 'InsideCity', 'TallBuilding', 'Street', 'Highway', 'OpenCountry', 'Coast', 'Mountain', 'Forest']\n"
     ]
    }
   ],
   "source": [
    "if __name__ == '__main__':\n",
    "    # To do: replace with your dataset path\n",
    "    label_classes, label_train_list, img_train_list, label_test_list, img_test_list = extract_dataset_info(\"./scene_classification_data\")\n",
    "    \n",
    "    # classify_knn_tiny(label_classes, label_train_list, img_train_list, label_test_list, img_test_list)\n",
    "\n",
    "    # classify_knn_bow(label_classes, label_train_list, img_train_list, label_test_list, img_test_list)\n",
    "    \n",
    "    # classify_svm_bow(label_classes, label_train_list, img_train_list, label_test_list, img_test_list)"
   ]
  },
  {
   "cell_type": "code",
   "execution_count": null,
   "metadata": {},
   "outputs": [],
   "source": [
    "print(len(label_classes))\n",
    "type(label_classes)"
   ]
  },
  {
   "cell_type": "code",
   "execution_count": null,
   "metadata": {},
   "outputs": [],
   "source": [
    "print(len(label_train_list))\n",
    "print(label_train_list[0])"
   ]
  },
  {
   "cell_type": "code",
   "execution_count": null,
   "metadata": {},
   "outputs": [],
   "source": [
    "len(label_train_list)"
   ]
  },
  {
   "cell_type": "code",
   "execution_count": null,
   "metadata": {},
   "outputs": [],
   "source": [
    "len(label_test_list)"
   ]
  },
  {
   "cell_type": "code",
   "execution_count": null,
   "metadata": {},
   "outputs": [],
   "source": [
    "len(label_test_list)\n",
    "label_test_list[0]"
   ]
  },
  {
   "cell_type": "code",
   "execution_count": null,
   "metadata": {},
   "outputs": [],
   "source": []
  }
 ],
 "metadata": {
  "kernelspec": {
   "display_name": "base",
   "language": "python",
   "name": "python3"
  },
  "language_info": {
   "codemirror_mode": {
    "name": "ipython",
    "version": 3
   },
   "file_extension": ".py",
   "mimetype": "text/x-python",
   "name": "python",
   "nbconvert_exporter": "python",
   "pygments_lexer": "ipython3",
   "version": "3.11.7"
  }
 },
 "nbformat": 4,
 "nbformat_minor": 2
}
