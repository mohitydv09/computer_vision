{
 "cells": [
  {
   "cell_type": "code",
   "execution_count": 55,
   "metadata": {},
   "outputs": [],
   "source": [
    "import os\n",
    "import numpy as np\n",
    "import cv2\n",
    "import matplotlib.pyplot as plt\n",
    "from sklearn.neighbors import NearestNeighbors\n",
    "from sklearn.cluster import KMeans\n",
    "from sklearn.svm import LinearSVC\n",
    "from scipy import stats\n",
    "from pathlib import Path, PureWindowsPath"
   ]
  },
  {
   "cell_type": "code",
   "execution_count": 2,
   "metadata": {},
   "outputs": [],
   "source": [
    "def extract_dataset_info(data_path):\n",
    "    # extract information from train.txt\n",
    "    f = open(os.path.join(data_path, \"train.txt\"), \"r\")\n",
    "    contents_train = f.readlines()\n",
    "    label_classes, label_train_list, img_train_list = [], [], []\n",
    "    for sample in contents_train:\n",
    "        sample = sample.split()\n",
    "        label, img_path = sample[0], sample[1]\n",
    "        if label not in label_classes:\n",
    "            label_classes.append(label)\n",
    "        label_train_list.append(sample[0])\n",
    "        img_train_list.append(os.path.join(data_path, Path(PureWindowsPath(img_path))))\n",
    "    print('Classes: {}'.format(label_classes))\n",
    "\n",
    "    # extract information from test.txt\n",
    "    f = open(os.path.join(data_path, \"test.txt\"), \"r\")\n",
    "    contents_test = f.readlines()\n",
    "    label_test_list, img_test_list = [], []\n",
    "    for sample in contents_test:\n",
    "        sample = sample.split()\n",
    "        label, img_path = sample[0], sample[1]\n",
    "        label_test_list.append(label)\n",
    "        img_test_list.append(os.path.join(data_path, Path(PureWindowsPath(img_path))))  # you can directly use img_path if you run in Windows\n",
    "\n",
    "    return label_classes, label_train_list, img_train_list, label_test_list, img_test_list"
   ]
  },
  {
   "cell_type": "code",
   "execution_count": null,
   "metadata": {},
   "outputs": [],
   "source": [
    "def compute_dsift(img):\n",
    "    # To do\n",
    "    return dense_feature"
   ]
  },
  {
   "cell_type": "code",
   "execution_count": 67,
   "metadata": {},
   "outputs": [
    {
     "data": {
      "text/plain": [
       "<matplotlib.image.AxesImage at 0x13a53da90>"
      ]
     },
     "execution_count": 67,
     "metadata": {},
     "output_type": "execute_result"
    },
    {
     "data": {
      "image/png": "[encoded data removed]",
      "text/plain": [
       "<Figure size 250x250 with 1 Axes>"
      ]
     },
     "metadata": {},
     "output_type": "display_data"
    }
   ],
   "source": [
    "def get_tiny_image(img, output_size):\n",
    "    # To do\n",
    "    # img is gray scale image. numpy array.\n",
    "    # output size will be a tuple of size w,h\n",
    "\n",
    "    hor_window_size = img.shape[1] // output_size[1]\n",
    "    vert_window_size = img.shape[0] // output_size[0]\n",
    "    feature = np.zeros((output_size))\n",
    "    for row in range(output_size[0]):\n",
    "        for col in range(output_size[1]):\n",
    "            feature[row,col] = np.sum(img[row*vert_window_size :(row+1)*vert_window_size-1 , col*hor_window_size : (col+1)*hor_window_size-1])\n",
    "\n",
    "    feature = feature/(hor_window_size*vert_window_size)\n",
    "    # Normalize the image.\n",
    "\n",
    "    # feature = (feature - np.mean(feature)) / np.std(feature)\n",
    "    # feature = (feature - np.mean(feature)) / np.max(feature)\n",
    "    feature = (feature - np.mean(feature)) / 255\n",
    "    # print(\"Normalization is incomplete check afterwards.\")\n",
    "\n",
    "    return feature\n",
    "\n",
    "img = cv2.imread(\"image_0043.jpg\",0)\n",
    "# plt.imshow(img, cmap='grey')\n",
    "output_size = (32,32)\n",
    "tiny_image = get_tiny_image(img, output_size)\n",
    "fig = plt.figure(figsize=(2.5,2.5))\n",
    "plt.imshow(tiny_image, cmap='grey')"
   ]
  },
  {
   "cell_type": "code",
   "execution_count": 68,
   "metadata": {},
   "outputs": [],
   "source": [
    "def predict_knn(feature_train, label_train, feature_test, k):\n",
    "    # To do\n",
    "\n",
    "    # Initialize kNN.\n",
    "    neigh = NearestNeighbors(n_neighbors=k)\n",
    "    neigh.fit(feature_train,label_train)\n",
    "\n",
    "    dist, indices = neigh.kneighbors(feature_test)\n",
    "    print(\"Shape of predict KNN : \", indices.shape)\n",
    "    print(\"Indices in predict knn : \", indices)\n",
    "    \n",
    "    # label_test_pred = label_train[indices]\n",
    "    label_test_pred = [label_train[i] for i in indices[:,0]]\n",
    "    \n",
    "    return label_test_pred"
   ]
  },
  {
   "cell_type": "code",
   "execution_count": 74,
   "metadata": {},
   "outputs": [
    {
     "name": "stdout",
     "output_type": "stream",
     "text": [
      "Shape of predict KNN :  (1500, 1)\n",
      "Indices in predict knn :  [[1204]\n",
      " [1434]\n",
      " [1286]\n",
      " ...\n",
      " [1198]\n",
      " [1454]\n",
      " [1249]]\n",
      "Label test Pred :  [13, 15, 13, 13, 11, 15, 15, 11, 5, 14, 14, 13, 6, 10, 11, 10, 13, 15, 14, 15, 13, 5, 12, 13, 13, 6, 15, 3, 15, 13, 12, 13, 15, 12, 13, 12, 12, 13, 8, 13, 12, 5, 15, 13, 14, 12, 15, 15, 13, 13, 13, 6, 5, 8, 3, 1, 1, 12, 15, 12, 15, 11, 13, 11, 3, 15, 9, 14, 11, 12, 3, 14, 9, 12, 11, 1, 6, 11, 5, 13, 14, 13, 9, 12, 11, 13, 8, 14, 14, 12, 15, 1, 15, 4, 15, 15, 4, 6, 1, 14, 4, 12, 13, 13, 15, 15, 12, 12, 15, 15, 11, 14, 11, 6, 15, 13, 13, 6, 13, 13, 15, 15, 13, 9, 12, 13, 11, 12, 12, 13, 11, 12, 6, 6, 11, 12, 13, 15, 15, 12, 13, 13, 12, 13, 13, 12, 10, 13, 5, 15, 12, 14, 13, 13, 13, 13, 13, 12, 11, 15, 15, 14, 12, 15, 11, 15, 13, 6, 14, 12, 11, 4, 12, 14, 13, 9, 6, 15, 11, 15, 6, 13, 12, 15, 13, 4, 9, 13, 13, 15, 8, 15, 7, 9, 12, 15, 13, 2, 11, 9, 11, 11, 11, 6, 13, 12, 5, 13, 13, 13, 12, 11, 5, 15, 4, 14, 15, 9, 14, 12, 4, 11, 13, 14, 13, 12, 10, 11, 3, 12, 12, 3, 14, 3, 13, 11, 14, 9, 13, 3, 11, 3, 13, 11, 13, 3, 9, 11, 10, 12, 11, 13, 12, 6, 12, 11, 12, 14, 13, 13, 13, 3, 13, 15, 15, 3, 5, 11, 13, 13, 14, 15, 11, 11, 11, 13, 3, 12, 14, 3, 5, 15, 14, 12, 15, 11, 11, 12, 3, 11, 12, 3, 12, 11, 12, 14, 13, 15, 11, 3, 5, 4, 4, 4, 14, 11, 13, 15, 8, 4, 13, 13, 5, 14, 15, 11, 11, 4, 15, 13, 4, 3, 13, 10, 13, 11, 13, 1, 6, 15, 14, 13, 4, 13, 13, 5, 14, 13, 12, 12, 11, 4, 13, 13, 3, 13, 13, 6, 5, 15, 11, 11, 11, 15, 9, 11, 5, 10, 13, 15, 12, 13, 11, 11, 8, 11, 13, 13, 10, 4, 14, 12, 15, 11, 13, 14, 6, 11, 11, 14, 13, 13, 11, 15, 12, 12, 13, 15, 13, 11, 13, 10, 9, 12, 11, 12, 6, 5, 11, 15, 15, 13, 5, 15, 4, 5, 11, 15, 15, 12, 13, 6, 12, 3, 12, 4, 15, 11, 13, 9, 3, 15, 5, 11, 3, 13, 9, 13, 11, 11, 13, 12, 5, 12, 11, 15, 6, 12, 15, 13, 13, 5, 13, 15, 11, 13, 15, 3, 2, 11, 13, 11, 5, 8, 11, 9, 10, 11, 13, 14, 11, 5, 5, 5, 15, 5, 15, 9, 13, 12, 13, 11, 12, 12, 15, 11, 11, 13, 12, 11, 13, 5, 13, 9, 1, 15, 5, 12, 12, 13, 13, 12, 13, 13, 11, 6, 6, 5, 6, 13, 13, 9, 13, 11, 12, 13, 13, 9, 10, 13, 13, 13, 11, 13, 11, 11, 11, 13, 11, 4, 10, 11, 12, 11, 11, 5, 9, 11, 13, 15, 11, 14, 11, 12, 13, 12, 13, 12, 11, 12, 11, 13, 11, 11, 11, 6, 9, 11, 15, 9, 11, 13, 13, 9, 12, 12, 9, 13, 12, 13, 11, 12, 11, 3, 4, 11, 9, 11, 13, 13, 11, 13, 12, 9, 12, 11, 11, 12, 12, 11, 8, 14, 9, 13, 3, 12, 12, 3, 15, 12, 13, 3, 13, 15, 12, 11, 8, 13, 12, 11, 13, 15, 3, 15, 11, 13, 12, 9, 10, 15, 11, 7, 7, 11, 14, 14, 12, 7, 10, 10, 11, 7, 8, 11, 13, 7, 11, 12, 11, 11, 14, 12, 1, 11, 3, 4, 4, 4, 11, 11, 13, 14, 10, 15, 7, 7, 10, 12, 10, 15, 8, 14, 10, 1, 14, 13, 15, 7, 14, 11, 12, 7, 12, 3, 7, 14, 12, 12, 10, 15, 7, 7, 10, 13, 12, 13, 15, 7, 10, 5, 10, 10, 15, 10, 5, 12, 15, 12, 10, 6, 13, 7, 14, 6, 12, 10, 11, 14, 13, 14, 11, 15, 8, 11, 1, 13, 15, 12, 13, 9, 5, 12, 12, 6, 12, 11, 15, 15, 15, 15, 15, 13, 11, 13, 12, 14, 13, 13, 11, 15, 13, 13, 15, 13, 12, 12, 1, 13, 11, 15, 13, 12, 13, 8, 13, 13, 15, 12, 15, 11, 11, 12, 3, 12, 13, 6, 14, 15, 15, 13, 15, 8, 15, 8, 8, 13, 6, 12, 10, 13, 10, 15, 13, 15, 12, 4, 6, 15, 11, 6, 15, 5, 13, 6, 11, 14, 10, 6, 11, 15, 13, 11, 13, 11, 13, 13, 11, 11, 14, 14, 12, 9, 5, 9, 13, 12, 14, 13, 6, 6, 9, 5, 12, 15, 4, 13, 10, 14, 8, 9, 15, 11, 12, 13, 15, 9, 13, 14, 4, 9, 15, 3, 9, 6, 13, 12, 9, 15, 9, 5, 13, 13, 9, 9, 12, 11, 4, 9, 12, 11, 13, 13, 9, 11, 13, 15, 15, 12, 4, 11, 13, 13, 12, 15, 13, 13, 12, 8, 15, 13, 13, 11, 14, 13, 13, 13, 12, 11, 10, 11, 11, 13, 15, 14, 9, 4, 12, 5, 15, 15, 3, 13, 11, 13, 4, 13, 9, 4, 12, 15, 10, 15, 10, 13, 14, 14, 10, 10, 13, 15, 1, 3, 11, 15, 11, 11, 5, 8, 11, 11, 9, 12, 15, 12, 13, 13, 10, 11, 10, 13, 12, 13, 12, 15, 6, 10, 13, 6, 10, 14, 10, 10, 15, 10, 15, 12, 11, 7, 8, 10, 10, 12, 15, 15, 15, 15, 14, 15, 10, 15, 10, 9, 10, 12, 15, 8, 5, 11, 10, 10, 10, 10, 10, 14, 10, 10, 10, 10, 10, 10, 10, 10, 10, 5, 14, 10, 10, 13, 12, 10, 12, 15, 11, 10, 11, 15, 11, 5, 11, 14, 12, 13, 13, 11, 12, 11, 13, 11, 11, 11, 13, 13, 13, 11, 11, 12, 13, 12, 11, 13, 12, 9, 10, 12, 11, 11, 12, 11, 13, 13, 11, 12, 11, 11, 13, 11, 11, 11, 11, 11, 11, 11, 11, 11, 11, 13, 13, 11, 13, 11, 11, 11, 13, 11, 11, 11, 12, 13, 11, 11, 11, 11, 11, 13, 11, 11, 11, 11, 11, 11, 11, 11, 11, 12, 13, 11, 11, 11, 13, 11, 12, 11, 11, 11, 12, 13, 13, 11, 11, 11, 11, 11, 11, 13, 12, 11, 12, 11, 11, 13, 13, 13, 6, 13, 11, 11, 12, 11, 11, 13, 12, 12, 12, 13, 13, 12, 13, 13, 12, 12, 13, 12, 13, 12, 13, 11, 12, 11, 12, 12, 12, 12, 14, 12, 13, 13, 12, 10, 13, 14, 13, 12, 13, 12, 12, 14, 12, 13, 12, 12, 11, 4, 12, 14, 12, 13, 12, 13, 12, 12, 11, 13, 15, 12, 10, 12, 10, 13, 13, 13, 12, 11, 12, 12, 13, 12, 12, 12, 8, 11, 12, 11, 13, 13, 13, 11, 13, 15, 13, 11, 12, 13, 11, 11, 13, 11, 13, 13, 12, 11, 9, 13, 13, 12, 10, 7, 12, 15, 15, 8, 13, 12, 13, 12, 13, 12, 13, 13, 11, 13, 3, 13, 13, 12, 11, 12, 12, 14, 14, 6, 13, 13, 13, 9, 11, 13, 13, 11, 13, 12, 13, 12, 11, 12, 12, 13, 12, 13, 12, 12, 11, 13, 13, 13, 13, 12, 13, 8, 13, 12, 13, 13, 12, 12, 14, 12, 13, 15, 13, 12, 14, 11, 12, 11, 11, 13, 12, 2, 12, 13, 11, 12, 13, 13, 13, 12, 8, 14, 13, 13, 12, 12, 9, 11, 12, 13, 15, 15, 13, 11, 13, 14, 15, 14, 14, 12, 14, 12, 12, 13, 15, 6, 14, 13, 8, 6, 13, 13, 15, 14, 15, 8, 11, 13, 12, 12, 11, 13, 14, 13, 13, 12, 14, 13, 12, 12, 15, 5, 14, 6, 13, 13, 3, 12, 13, 14, 13, 8, 13, 12, 11, 14, 9, 13, 14, 8, 12, 13, 12, 10, 14, 14, 11, 12, 12, 8, 11, 10, 13, 14, 14, 11, 10, 13, 12, 11, 15, 13, 13, 15, 13, 12, 12, 14, 1, 13, 11, 11, 11, 4, 12, 12, 13, 14, 11, 13, 13, 13, 11, 11, 13, 14, 12, 14, 15, 15, 12, 15, 12, 4, 6, 12, 12, 12, 12, 12, 15, 12, 12, 15, 9, 13, 12, 12, 14, 12, 12, 11, 13, 11, 15, 15, 15, 11, 15, 6, 6, 12, 12, 13, 6, 11, 6, 15, 15, 12, 15, 14, 12, 15, 13, 6, 6, 8, 15, 12, 12, 15, 12, 13, 13, 15, 13, 15, 11, 13, 6, 14, 15, 15, 13, 13, 3, 12, 15, 14, 15, 10, 11, 10, 14, 6, 13, 12, 13, 10, 14, 13, 13, 4, 10, 15, 13, 15, 6, 13, 9, 12, 15, 13]\n",
      "Row is :  0  Cls is :  1\n",
      "Indices in the loop  :  [ 0  1  2  3  4  5  6  7  8  9 10 11 12 13 14 15 16 17 18 19 20 21 22 23\n",
      " 24 25 26 27 28 29 30 31 32 33 34 35 36 37 38 39 40 41 42 43 44 45 46 47\n",
      " 48 49 50 51 52 53 54 55 56 57 58 59 60 61 62 63 64 65 66 67 68 69 70 71\n",
      " 72 73 74 75 76 77 78 79 80 81 82 83 84 85 86 87 88 89 90 91 92 93 94 95\n",
      " 96 97 98 99]\n",
      "preds temps :  [13 15 13 13 11 15 15 11  5 14 14 13  6 10 11 10 13 15 14 15 13  5 12 13\n",
      " 13  6 15  3 15 13 12 13 15 12 13 12 12 13  8 13 12  5 15 13 14 12 15 15\n",
      " 13 13 13  6  5  8  3  1  1 12 15 12 15 11 13 11  3 15  9 14 11 12  3 14\n",
      "  9 12 11  1  6 11  5 13 14 13  9 12 11 13  8 14 14 12 15  1 15  4 15 15\n",
      "  4  6  1 14]\n",
      "Row is :  1  Cls is :  2\n",
      "Indices in the loop  :  [100 101 102 103 104 105 106 107 108 109 110 111 112 113 114 115 116 117\n",
      " 118 119 120 121 122 123 124 125 126 127 128 129 130 131 132 133 134 135\n",
      " 136 137 138 139 140 141 142 143 144 145 146 147 148 149 150 151 152 153\n",
      " 154 155 156 157 158 159 160 161 162 163 164 165 166 167 168 169 170 171\n",
      " 172 173 174 175 176 177 178 179 180 181 182 183 184 185 186 187 188 189\n",
      " 190 191 192 193 194 195 196 197 198 199]\n",
      "preds temps :  [ 4 12 13 13 15 15 12 12 15 15 11 14 11  6 15 13 13  6 13 13 15 15 13  9\n",
      " 12 13 11 12 12 13 11 12  6  6 11 12 13 15 15 12 13 13 12 13 13 12 10 13\n",
      "  5 15 12 14 13 13 13 13 13 12 11 15 15 14 12 15 11 15 13  6 14 12 11  4\n",
      " 12 14 13  9  6 15 11 15  6 13 12 15 13  4  9 13 13 15  8 15  7  9 12 15\n",
      " 13  2 11  9]\n",
      "Row is :  2  Cls is :  3\n",
      "Indices in the loop  :  [200 201 202 203 204 205 206 207 208 209 210 211 212 213 214 215 216 217\n",
      " 218 219 220 221 222 223 224 225 226 227 228 229 230 231 232 233 234 235\n",
      " 236 237 238 239 240 241 242 243 244 245 246 247 248 249 250 251 252 253\n",
      " 254 255 256 257 258 259 260 261 262 263 264 265 266 267 268 269 270 271\n",
      " 272 273 274 275 276 277 278 279 280 281 282 283 284 285 286 287 288 289\n",
      " 290 291 292 293 294 295 296 297 298 299]\n",
      "preds temps :  [11 11 11  6 13 12  5 13 13 13 12 11  5 15  4 14 15  9 14 12  4 11 13 14\n",
      " 13 12 10 11  3 12 12  3 14  3 13 11 14  9 13  3 11  3 13 11 13  3  9 11\n",
      " 10 12 11 13 12  6 12 11 12 14 13 13 13  3 13 15 15  3  5 11 13 13 14 15\n",
      " 11 11 11 13  3 12 14  3  5 15 14 12 15 11 11 12  3 11 12  3 12 11 12 14\n",
      " 13 15 11  3]\n",
      "Row is :  3  Cls is :  4\n",
      "Indices in the loop  :  [300 301 302 303 304 305 306 307 308 309 310 311 312 313 314 315 316 317\n",
      " 318 319 320 321 322 323 324 325 326 327 328 329 330 331 332 333 334 335\n",
      " 336 337 338 339 340 341 342 343 344 345 346 347 348 349 350 351 352 353\n",
      " 354 355 356 357 358 359 360 361 362 363 364 365 366 367 368 369 370 371\n",
      " 372 373 374 375 376 377 378 379 380 381 382 383 384 385 386 387 388 389\n",
      " 390 391 392 393 394 395 396 397 398 399]\n",
      "preds temps :  [ 5  4  4  4 14 11 13 15  8  4 13 13  5 14 15 11 11  4 15 13  4  3 13 10\n",
      " 13 11 13  1  6 15 14 13  4 13 13  5 14 13 12 12 11  4 13 13  3 13 13  6\n",
      "  5 15 11 11 11 15  9 11  5 10 13 15 12 13 11 11  8 11 13 13 10  4 14 12\n",
      " 15 11 13 14  6 11 11 14 13 13 11 15 12 12 13 15 13 11 13 10  9 12 11 12\n",
      "  6  5 11 15]\n",
      "Row is :  4  Cls is :  5\n",
      "Indices in the loop  :  [400 401 402 403 404 405 406 407 408 409 410 411 412 413 414 415 416 417\n",
      " 418 419 420 421 422 423 424 425 426 427 428 429 430 431 432 433 434 435\n",
      " 436 437 438 439 440 441 442 443 444 445 446 447 448 449 450 451 452 453\n",
      " 454 455 456 457 458 459 460 461 462 463 464 465 466 467 468 469 470 471\n",
      " 472 473 474 475 476 477 478 479 480 481 482 483 484 485 486 487 488 489\n",
      " 490 491 492 493 494 495 496 497 498 499]\n",
      "preds temps :  [15 13  5 15  4  5 11 15 15 12 13  6 12  3 12  4 15 11 13  9  3 15  5 11\n",
      "  3 13  9 13 11 11 13 12  5 12 11 15  6 12 15 13 13  5 13 15 11 13 15  3\n",
      "  2 11 13 11  5  8 11  9 10 11 13 14 11  5  5  5 15  5 15  9 13 12 13 11\n",
      " 12 12 15 11 11 13 12 11 13  5 13  9  1 15  5 12 12 13 13 12 13 13 11  6\n",
      "  6  5  6 13]\n",
      "Row is :  5  Cls is :  6\n",
      "Indices in the loop  :  [500 501 502 503 504 505 506 507 508 509 510 511 512 513 514 515 516 517\n",
      " 518 519 520 521 522 523 524 525 526 527 528 529 530 531 532 533 534 535\n",
      " 536 537 538 539 540 541 542 543 544 545 546 547 548 549 550 551 552 553\n",
      " 554 555 556 557 558 559 560 561 562 563 564 565 566 567 568 569 570 571\n",
      " 572 573 574 575 576 577 578 579 580 581 582 583 584 585 586 587 588 589\n",
      " 590 591 592 593 594 595 596 597 598 599]\n",
      "preds temps :  [13  9 13 11 12 13 13  9 10 13 13 13 11 13 11 11 11 13 11  4 10 11 12 11\n",
      " 11  5  9 11 13 15 11 14 11 12 13 12 13 12 11 12 11 13 11 11 11  6  9 11\n",
      " 15  9 11 13 13  9 12 12  9 13 12 13 11 12 11  3  4 11  9 11 13 13 11 13\n",
      " 12  9 12 11 11 12 12 11  8 14  9 13  3 12 12  3 15 12 13  3 13 15 12 11\n",
      "  8 13 12 11]\n",
      "Row is :  6  Cls is :  7\n",
      "Indices in the loop  :  [600 601 602 603 604 605 606 607 608 609 610 611 612 613 614 615 616 617\n",
      " 618 619 620 621 622 623 624 625 626 627 628 629 630 631 632 633 634 635\n",
      " 636 637 638 639 640 641 642 643 644 645 646 647 648 649 650 651 652 653\n",
      " 654 655 656 657 658 659 660 661 662 663 664 665 666 667 668 669 670 671\n",
      " 672 673 674 675 676 677 678 679 680 681 682 683 684 685 686 687 688 689\n",
      " 690 691 692 693 694 695 696 697 698 699]\n",
      "preds temps :  [13 15  3 15 11 13 12  9 10 15 11  7  7 11 14 14 12  7 10 10 11  7  8 11\n",
      " 13  7 11 12 11 11 14 12  1 11  3  4  4  4 11 11 13 14 10 15  7  7 10 12\n",
      " 10 15  8 14 10  1 14 13 15  7 14 11 12  7 12  3  7 14 12 12 10 15  7  7\n",
      " 10 13 12 13 15  7 10  5 10 10 15 10  5 12 15 12 10  6 13  7 14  6 12 10\n",
      " 11 14 13 14]\n",
      "Row is :  7  Cls is :  8\n",
      "Indices in the loop  :  [700 701 702 703 704 705 706 707 708 709 710 711 712 713 714 715 716 717\n",
      " 718 719 720 721 722 723 724 725 726 727 728 729 730 731 732 733 734 735\n",
      " 736 737 738 739 740 741 742 743 744 745 746 747 748 749 750 751 752 753\n",
      " 754 755 756 757 758 759 760 761 762 763 764 765 766 767 768 769 770 771\n",
      " 772 773 774 775 776 777 778 779 780 781 782 783 784 785 786 787 788 789\n",
      " 790 791 792 793 794 795 796 797 798 799]\n",
      "preds temps :  [11 15  8 11  1 13 15 12 13  9  5 12 12  6 12 11 15 15 15 15 15 13 11 13\n",
      " 12 14 13 13 11 15 13 13 15 13 12 12  1 13 11 15 13 12 13  8 13 13 15 12\n",
      " 15 11 11 12  3 12 13  6 14 15 15 13 15  8 15  8  8 13  6 12 10 13 10 15\n",
      " 13 15 12  4  6 15 11  6 15  5 13  6 11 14 10  6 11 15 13 11 13 11 13 13\n",
      " 11 11 14 14]\n",
      "Row is :  8  Cls is :  9\n",
      "Indices in the loop  :  [800 801 802 803 804 805 806 807 808 809 810 811 812 813 814 815 816 817\n",
      " 818 819 820 821 822 823 824 825 826 827 828 829 830 831 832 833 834 835\n",
      " 836 837 838 839 840 841 842 843 844 845 846 847 848 849 850 851 852 853\n",
      " 854 855 856 857 858 859 860 861 862 863 864 865 866 867 868 869 870 871\n",
      " 872 873 874 875 876 877 878 879 880 881 882 883 884 885 886 887 888 889\n",
      " 890 891 892 893 894 895 896 897 898 899]\n",
      "preds temps :  [12  9  5  9 13 12 14 13  6  6  9  5 12 15  4 13 10 14  8  9 15 11 12 13\n",
      " 15  9 13 14  4  9 15  3  9  6 13 12  9 15  9  5 13 13  9  9 12 11  4  9\n",
      " 12 11 13 13  9 11 13 15 15 12  4 11 13 13 12 15 13 13 12  8 15 13 13 11\n",
      " 14 13 13 13 12 11 10 11 11 13 15 14  9  4 12  5 15 15  3 13 11 13  4 13\n",
      "  9  4 12 15]\n",
      "Row is :  9  Cls is :  10\n",
      "Indices in the loop  :  [900 901 902 903 904 905 906 907 908 909 910 911 912 913 914 915 916 917\n",
      " 918 919 920 921 922 923 924 925 926 927 928 929 930 931 932 933 934 935\n",
      " 936 937 938 939 940 941 942 943 944 945 946 947 948 949 950 951 952 953\n",
      " 954 955 956 957 958 959 960 961 962 963 964 965 966 967 968 969 970 971\n",
      " 972 973 974 975 976 977 978 979 980 981 982 983 984 985 986 987 988 989\n",
      " 990 991 992 993 994 995 996 997 998 999]\n",
      "preds temps :  [10 15 10 13 14 14 10 10 13 15  1  3 11 15 11 11  5  8 11 11  9 12 15 12\n",
      " 13 13 10 11 10 13 12 13 12 15  6 10 13  6 10 14 10 10 15 10 15 12 11  7\n",
      "  8 10 10 12 15 15 15 15 14 15 10 15 10  9 10 12 15  8  5 11 10 10 10 10\n",
      " 10 14 10 10 10 10 10 10 10 10 10  5 14 10 10 13 12 10 12 15 11 10 11 15\n",
      " 11  5 11 14]\n",
      "Row is :  10  Cls is :  11\n",
      "Indices in the loop  :  [1000 1001 1002 1003 1004 1005 1006 1007 1008 1009 1010 1011 1012 1013\n",
      " 1014 1015 1016 1017 1018 1019 1020 1021 1022 1023 1024 1025 1026 1027\n",
      " 1028 1029 1030 1031 1032 1033 1034 1035 1036 1037 1038 1039 1040 1041\n",
      " 1042 1043 1044 1045 1046 1047 1048 1049 1050 1051 1052 1053 1054 1055\n",
      " 1056 1057 1058 1059 1060 1061 1062 1063 1064 1065 1066 1067 1068 1069\n",
      " 1070 1071 1072 1073 1074 1075 1076 1077 1078 1079 1080 1081 1082 1083\n",
      " 1084 1085 1086 1087 1088 1089 1090 1091 1092 1093 1094 1095 1096 1097\n",
      " 1098 1099]\n",
      "preds temps :  [12 13 13 11 12 11 13 11 11 11 13 13 13 11 11 12 13 12 11 13 12  9 10 12\n",
      " 11 11 12 11 13 13 11 12 11 11 13 11 11 11 11 11 11 11 11 11 11 13 13 11\n",
      " 13 11 11 11 13 11 11 11 12 13 11 11 11 11 11 13 11 11 11 11 11 11 11 11\n",
      " 11 12 13 11 11 11 13 11 12 11 11 11 12 13 13 11 11 11 11 11 11 13 12 11\n",
      " 12 11 11 13]\n",
      "Row is :  11  Cls is :  12\n",
      "Indices in the loop  :  [1100 1101 1102 1103 1104 1105 1106 1107 1108 1109 1110 1111 1112 1113\n",
      " 1114 1115 1116 1117 1118 1119 1120 1121 1122 1123 1124 1125 1126 1127\n",
      " 1128 1129 1130 1131 1132 1133 1134 1135 1136 1137 1138 1139 1140 1141\n",
      " 1142 1143 1144 1145 1146 1147 1148 1149 1150 1151 1152 1153 1154 1155\n",
      " 1156 1157 1158 1159 1160 1161 1162 1163 1164 1165 1166 1167 1168 1169\n",
      " 1170 1171 1172 1173 1174 1175 1176 1177 1178 1179 1180 1181 1182 1183\n",
      " 1184 1185 1186 1187 1188 1189 1190 1191 1192 1193 1194 1195 1196 1197\n",
      " 1198 1199]\n",
      "preds temps :  [13 13  6 13 11 11 12 11 11 13 12 12 12 13 13 12 13 13 12 12 13 12 13 12\n",
      " 13 11 12 11 12 12 12 12 14 12 13 13 12 10 13 14 13 12 13 12 12 14 12 13\n",
      " 12 12 11  4 12 14 12 13 12 13 12 12 11 13 15 12 10 12 10 13 13 13 12 11\n",
      " 12 12 13 12 12 12  8 11 12 11 13 13 13 11 13 15 13 11 12 13 11 11 13 11\n",
      " 13 13 12 11]\n",
      "Row is :  12  Cls is :  13\n",
      "Indices in the loop  :  [1200 1201 1202 1203 1204 1205 1206 1207 1208 1209 1210 1211 1212 1213\n",
      " 1214 1215 1216 1217 1218 1219 1220 1221 1222 1223 1224 1225 1226 1227\n",
      " 1228 1229 1230 1231 1232 1233 1234 1235 1236 1237 1238 1239 1240 1241\n",
      " 1242 1243 1244 1245 1246 1247 1248 1249 1250 1251 1252 1253 1254 1255\n",
      " 1256 1257 1258 1259 1260 1261 1262 1263 1264 1265 1266 1267 1268 1269\n",
      " 1270 1271 1272 1273 1274 1275 1276 1277 1278 1279 1280 1281 1282 1283\n",
      " 1284 1285 1286 1287 1288 1289 1290 1291 1292 1293 1294 1295 1296 1297\n",
      " 1298 1299]\n",
      "preds temps :  [ 9 13 13 12 10  7 12 15 15  8 13 12 13 12 13 12 13 13 11 13  3 13 13 12\n",
      " 11 12 12 14 14  6 13 13 13  9 11 13 13 11 13 12 13 12 11 12 12 13 12 13\n",
      " 12 12 11 13 13 13 13 12 13  8 13 12 13 13 12 12 14 12 13 15 13 12 14 11\n",
      " 12 11 11 13 12  2 12 13 11 12 13 13 13 12  8 14 13 13 12 12  9 11 12 13\n",
      " 15 15 13 11]\n",
      "Row is :  13  Cls is :  14\n",
      "Indices in the loop  :  [1300 1301 1302 1303 1304 1305 1306 1307 1308 1309 1310 1311 1312 1313\n",
      " 1314 1315 1316 1317 1318 1319 1320 1321 1322 1323 1324 1325 1326 1327\n",
      " 1328 1329 1330 1331 1332 1333 1334 1335 1336 1337 1338 1339 1340 1341\n",
      " 1342 1343 1344 1345 1346 1347 1348 1349 1350 1351 1352 1353 1354 1355\n",
      " 1356 1357 1358 1359 1360 1361 1362 1363 1364 1365 1366 1367 1368 1369\n",
      " 1370 1371 1372 1373 1374 1375 1376 1377 1378 1379 1380 1381 1382 1383\n",
      " 1384 1385 1386 1387 1388 1389 1390 1391 1392 1393 1394 1395 1396 1397\n",
      " 1398 1399]\n",
      "preds temps :  [13 14 15 14 14 12 14 12 12 13 15  6 14 13  8  6 13 13 15 14 15  8 11 13\n",
      " 12 12 11 13 14 13 13 12 14 13 12 12 15  5 14  6 13 13  3 12 13 14 13  8\n",
      " 13 12 11 14  9 13 14  8 12 13 12 10 14 14 11 12 12  8 11 10 13 14 14 11\n",
      " 10 13 12 11 15 13 13 15 13 12 12 14  1 13 11 11 11  4 12 12 13 14 11 13\n",
      " 13 13 11 11]\n",
      "Row is :  14  Cls is :  15\n",
      "Indices in the loop  :  [1400 1401 1402 1403 1404 1405 1406 1407 1408 1409 1410 1411 1412 1413\n",
      " 1414 1415 1416 1417 1418 1419 1420 1421 1422 1423 1424 1425 1426 1427\n",
      " 1428 1429 1430 1431 1432 1433 1434 1435 1436 1437 1438 1439 1440 1441\n",
      " 1442 1443 1444 1445 1446 1447 1448 1449 1450 1451 1452 1453 1454 1455\n",
      " 1456 1457 1458 1459 1460 1461 1462 1463 1464 1465 1466 1467 1468 1469\n",
      " 1470 1471 1472 1473 1474 1475 1476 1477 1478 1479 1480 1481 1482 1483\n",
      " 1484 1485 1486 1487 1488 1489 1490 1491 1492 1493 1494 1495 1496 1497\n",
      " 1498 1499]\n",
      "preds temps :  [13 14 12 14 15 15 12 15 12  4  6 12 12 12 12 12 15 12 12 15  9 13 12 12\n",
      " 14 12 12 11 13 11 15 15 15 11 15  6  6 12 12 13  6 11  6 15 15 12 15 14\n",
      " 12 15 13  6  6  8 15 12 12 15 12 13 13 15 13 15 11 13  6 14 15 15 13 13\n",
      "  3 12 15 14 15 10 11 10 14  6 13 12 13 10 14 13 13  4 10 15 13 15  6 13\n",
      "  9 12 15 13]\n"
     ]
    },
    {
     "data": {
      "image/png": "[encoded data removed]",
      "text/plain": [
       "<Figure size 640x480 with 1 Axes>"
      ]
     },
     "metadata": {},
     "output_type": "display_data"
    },
    {
     "data": {
      "text/plain": [
       "(array([[3.750e+00, 0.000e+00, 2.150e+00, 1.890e+00, 2.000e+00, 2.610e+00,\n",
       "         0.000e+00, 1.770e+00, 2.200e+00, 2.800e-01, 4.520e+00, 6.710e+00,\n",
       "         7.660e+00, 5.730e+00, 8.230e+00],\n",
       "        [0.000e+00, 9.700e-01, 0.000e+00, 1.560e+00, 4.800e-01, 3.180e+00,\n",
       "         9.200e-01, 9.000e-01, 3.760e+00, 4.600e-01, 4.800e+00, 7.710e+00,\n",
       "         1.246e+01, 2.640e+00, 9.660e+00],\n",
       "        [0.000e+00, 0.000e+00, 7.760e+00, 3.400e-01, 1.640e+00, 5.600e-01,\n",
       "         0.000e+00, 0.000e+00, 1.000e+00, 7.400e-01, 1.069e+01, 8.520e+00,\n",
       "         8.300e+00, 5.060e+00, 4.890e+00],\n",
       "        [2.700e-01, 0.000e+00, 6.500e-01, 1.940e+00, 2.480e+00, 2.470e+00,\n",
       "         0.000e+00, 7.200e-01, 1.460e+00, 2.390e+00, 1.090e+01, 5.650e+00,\n",
       "         1.180e+01, 3.070e+00, 5.700e+00],\n",
       "        [8.400e-01, 4.800e-01, 1.040e+00, 1.900e-01, 6.690e+00, 3.360e+00,\n",
       "         0.000e+00, 5.300e-01, 2.500e+00, 5.600e-01, 8.470e+00, 6.940e+00,\n",
       "         1.225e+01, 5.900e-01, 5.060e+00],\n",
       "        [0.000e+00, 0.000e+00, 3.250e+00, 8.300e-01, 2.500e-01, 4.500e-01,\n",
       "         0.000e+00, 1.760e+00, 4.590e+00, 2.800e-01, 1.287e+01, 1.151e+01,\n",
       "         1.001e+01, 1.120e+00, 2.580e+00],\n",
       "        [8.500e-01, 0.000e+00, 9.900e-01, 1.080e+00, 1.630e+00, 1.820e+00,\n",
       "         6.660e+00, 7.200e-01, 7.000e-02, 8.780e+00, 4.180e+00, 7.220e+00,\n",
       "         4.600e+00, 6.160e+00, 4.740e+00],\n",
       "        [4.000e-01, 0.000e+00, 5.200e-01, 7.500e-01, 9.100e-01, 4.590e+00,\n",
       "         0.000e+00, 2.330e+00, 9.000e-02, 2.240e+00, 8.320e+00, 4.700e+00,\n",
       "         1.184e+01, 3.630e+00, 9.180e+00],\n",
       "        [0.000e+00, 0.000e+00, 1.210e+00, 4.220e+00, 1.390e+00, 5.000e-01,\n",
       "         0.000e+00, 8.500e-01, 5.570e+00, 9.400e-01, 6.260e+00, 6.110e+00,\n",
       "         1.316e+01, 2.050e+00, 7.240e+00],\n",
       "        [1.000e-01, 0.000e+00, 1.100e-01, 0.000e+00, 2.620e+00, 7.100e-01,\n",
       "         4.700e-01, 1.300e+00, 8.100e-01, 1.950e+01, 5.980e+00, 4.430e+00,\n",
       "         2.430e+00, 3.600e+00, 7.440e+00],\n",
       "        [0.000e+00, 0.000e+00, 0.000e+00, 0.000e+00, 0.000e+00, 0.000e+00,\n",
       "         0.000e+00, 0.000e+00, 2.100e-01, 2.200e-01, 3.294e+01, 6.190e+00,\n",
       "         9.940e+00, 0.000e+00, 0.000e+00],\n",
       "        [0.000e+00, 0.000e+00, 0.000e+00, 5.100e-01, 0.000e+00, 2.000e-02,\n",
       "         0.000e+00, 7.800e-01, 0.000e+00, 1.670e+00, 9.700e+00, 1.737e+01,\n",
       "         1.627e+01, 1.690e+00, 1.490e+00],\n",
       "        [0.000e+00, 7.700e-01, 2.000e-01, 0.000e+00, 0.000e+00, 2.900e-01,\n",
       "         5.000e-02, 1.520e+00, 1.250e+00, 4.000e-02, 6.950e+00, 1.472e+01,\n",
       "         1.820e+01, 2.760e+00, 2.750e+00],\n",
       "        [8.400e-01, 0.000e+00, 4.200e-01, 8.900e-01, 3.700e-01, 6.500e-01,\n",
       "         0.000e+00, 2.020e+00, 5.200e-01, 1.980e+00, 9.240e+00, 9.200e+00,\n",
       "         1.367e+01, 7.290e+00, 2.410e+00],\n",
       "        [0.000e+00, 0.000e+00, 7.200e-01, 9.800e-01, 0.000e+00, 5.070e+00,\n",
       "         0.000e+00, 5.300e-01, 1.160e+00, 3.310e+00, 2.720e+00, 8.020e+00,\n",
       "         1.152e+01, 3.830e+00, 1.164e+01]]),\n",
       " 9.537333333333333)"
      ]
     },
     "execution_count": 74,
     "metadata": {},
     "output_type": "execute_result"
    }
   ],
   "source": [
    "def classify_knn_tiny(label_classes, label_train_list, img_train_list, label_test_list, img_test_list):\n",
    "    # To do\n",
    "\n",
    "    output_size = (16,16)\n",
    "\n",
    "    # Map labels to integers.\n",
    "    label_map = {key : value+1 for value, key in enumerate(label_classes)}\n",
    "    label_train_int = np.array([label_map[item] for item in label_train_list])\n",
    "    label_test_int = np.array([label_map[item] for item in label_test_list])\n",
    "\n",
    "    label_classes_int = np.array([label_map[item] for item in label_classes])\n",
    "    # print(label_test_int)\n",
    "\n",
    "    # Get the tiny image of all the train items.\n",
    "    feature_train = np.zeros((len(img_train_list), output_size[0]*output_size[1]))\n",
    "    for i,path_img in enumerate(img_train_list):\n",
    "        img = cv2.imread(path_img,0) # Read Image, 0 to read as greyscale.\n",
    "        feature_train[i] = get_tiny_image(img, output_size).flatten()   # Get features using tiny image funtion.\n",
    "\n",
    "    # Get the tiny image of all the test items.\n",
    "    feature_test = np.zeros((len(img_test_list), output_size[0]*output_size[1]))\n",
    "    for i,path_img in enumerate(img_test_list):\n",
    "        img = cv2.imread(path_img,0) # 0 to read as greyscale.\n",
    "        feature_test[i] = get_tiny_image(img, output_size).flatten()\n",
    "    \n",
    "    # Predict labels for the test images.\n",
    "    k_neighbour = 1\n",
    "    label_test_pred = predict_knn(feature_train, label_test_int, feature_test, k_neighbour)\n",
    "\n",
    "    print(\"Label test Pred : \", label_test_pred)\n",
    "\n",
    "    # Make the confusion Matrix.\n",
    "    confusion = np.zeros((len(label_classes), len(label_classes)))\n",
    "    for row,cls in enumerate(label_classes_int):\n",
    "        # Get the indices where test data has this item.(ground truth)\n",
    "        print(\"Row is : \", row, \" Cls is : \", cls)\n",
    "        indices = np.where(label_test_int == cls)[0]\n",
    "        print(\"Indices in the loop  : \", indices)\n",
    "        # Get the predictions for this class of data.\n",
    "        preds_temp = np.array([label_test_pred[i] for i in indices])\n",
    "        print('preds temps : ', preds_temp)\n",
    "        for col in range(len(label_classes)):\n",
    "            # True label for this is cls.\n",
    "            confusion[row,col] = np.sum(np.where(preds_temp == label_classes_int[col])) / len(indices)\n",
    "\n",
    "\n",
    "    # Find the accuracy as mean of the correct predictions.\n",
    "    accuracy = np.mean(np.diagonal(confusion))\n",
    "\n",
    "    visualize_confusion_matrix(confusion, accuracy, label_classes)\n",
    "\n",
    "    return confusion, accuracy\n",
    "\n",
    "classify_knn_tiny(label_classes, label_train_list, img_train_list, label_test_list, img_test_list)"
   ]
  },
  {
   "cell_type": "code",
   "execution_count": null,
   "metadata": {},
   "outputs": [],
   "source": [
    "def build_visual_dictionary(dense_feature_list, dict_size):\n",
    "    # To do\n",
    "    return vocab"
   ]
  },
  {
   "cell_type": "code",
   "execution_count": null,
   "metadata": {},
   "outputs": [],
   "source": [
    "def compute_bow(feature, vocab):\n",
    "    # To do\n",
    "    return bow_feature"
   ]
  },
  {
   "cell_type": "code",
   "execution_count": null,
   "metadata": {},
   "outputs": [],
   "source": [
    "def classify_knn_bow(label_classes, label_train_list, img_train_list, label_test_list, img_test_list):\n",
    "    # To do\n",
    "    visualize_confusion_matrix(confusion, accuracy, label_classes)\n",
    "    return confusion, accuracy"
   ]
  },
  {
   "cell_type": "code",
   "execution_count": null,
   "metadata": {},
   "outputs": [],
   "source": [
    "def predict_svm(feature_train, label_train, feature_test, n_classes):\n",
    "    # To do\n",
    "    return label_test_pred"
   ]
  },
  {
   "cell_type": "code",
   "execution_count": null,
   "metadata": {},
   "outputs": [],
   "source": [
    "def classify_svm_bow(label_classes, label_train_list, img_train_list, label_test_list, img_test_list):\n",
    "    # To do\n",
    "    visualize_confusion_matrix(confusion, accuracy, label_classes)\n",
    "    return confusion, accuracy"
   ]
  },
  {
   "cell_type": "code",
   "execution_count": 35,
   "metadata": {},
   "outputs": [],
   "source": [
    "def visualize_confusion_matrix(confusion, accuracy, label_classes):\n",
    "    plt.title(\"accuracy = {:.3f}\".format(accuracy))\n",
    "    plt.imshow(confusion)\n",
    "    ax, fig = plt.gca(), plt.gcf()\n",
    "    plt.xticks(np.arange(len(label_classes)), label_classes)\n",
    "    plt.yticks(np.arange(len(label_classes)), label_classes)\n",
    "    # set horizontal alignment mode (left, right or center) and rotation mode(anchor or default)\n",
    "    plt.setp(ax.get_xticklabels(), rotation=-30, ha=\"center\", rotation_mode=\"default\")\n",
    "    # avoid top and bottom part of heatmap been cut\n",
    "    ax.set_xticks(np.arange(len(label_classes) + 1) - .5, minor=True)\n",
    "    ax.set_yticks(np.arange(len(label_classes) + 1) - .5, minor=True)\n",
    "    ax.tick_params(which=\"minor\", bottom=False, left=False)\n",
    "    fig.tight_layout()\n",
    "    plt.show()"
   ]
  },
  {
   "cell_type": "code",
   "execution_count": 59,
   "metadata": {},
   "outputs": [
    {
     "name": "stdout",
     "output_type": "stream",
     "text": [
      "Classes: ['Kitchen', 'Store', 'Bedroom', 'LivingRoom', 'Office', 'Industrial', 'Suburb', 'InsideCity', 'TallBuilding', 'Street', 'Highway', 'OpenCountry', 'Coast', 'Mountain', 'Forest']\n"
     ]
    }
   ],
   "source": [
    "if __name__ == '__main__':\n",
    "    # To do: replace with your dataset path\n",
    "    label_classes, label_train_list, img_train_list, label_test_list, img_test_list = extract_dataset_info(\"./scene_classification_data\")\n",
    "    \n",
    "    # classify_knn_tiny(label_classes, label_train_list, img_train_list, label_test_list, img_test_list)\n",
    "\n",
    "    # classify_knn_bow(label_classes, label_train_list, img_train_list, label_test_list, img_test_list)\n",
    "    \n",
    "    # classify_svm_bow(label_classes, label_train_list, img_train_list, label_test_list, img_test_list)"
   ]
  },
  {
   "cell_type": "code",
   "execution_count": 11,
   "metadata": {},
   "outputs": [
    {
     "name": "stdout",
     "output_type": "stream",
     "text": [
      "15\n"
     ]
    },
    {
     "data": {
      "text/plain": [
       "list"
      ]
     },
     "execution_count": 11,
     "metadata": {},
     "output_type": "execute_result"
    }
   ],
   "source": [
    "print(len(label_classes))\n",
    "type(label_classes)"
   ]
  },
  {
   "cell_type": "code",
   "execution_count": 33,
   "metadata": {},
   "outputs": [
    {
     "name": "stdout",
     "output_type": "stream",
     "text": [
      "1500\n",
      "Kitchen\n"
     ]
    }
   ],
   "source": [
    "print(len(label_train_list))\n",
    "print(label_train_list[0])"
   ]
  },
  {
   "cell_type": "code",
   "execution_count": 39,
   "metadata": {},
   "outputs": [
    {
     "data": {
      "text/plain": [
       "1500"
      ]
     },
     "execution_count": 39,
     "metadata": {},
     "output_type": "execute_result"
    }
   ],
   "source": [
    "len(label_train_list)"
   ]
  },
  {
   "cell_type": "code",
   "execution_count": 40,
   "metadata": {},
   "outputs": [
    {
     "data": {
      "text/plain": [
       "1500"
      ]
     },
     "execution_count": 40,
     "metadata": {},
     "output_type": "execute_result"
    }
   ],
   "source": [
    "len(label_test_list)"
   ]
  },
  {
   "cell_type": "code",
   "execution_count": 42,
   "metadata": {},
   "outputs": [
    {
     "data": {
      "text/plain": [
       "'Kitchen'"
      ]
     },
     "execution_count": 42,
     "metadata": {},
     "output_type": "execute_result"
    }
   ],
   "source": [
    "len(label_test_list)\n",
    "label_test_list[0]"
   ]
  },
  {
   "cell_type": "code",
   "execution_count": null,
   "metadata": {},
   "outputs": [],
   "source": []
  }
 ],
 "metadata": {
  "kernelspec": {
   "display_name": "base",
   "language": "python",
   "name": "python3"
  },
  "language_info": {
   "codemirror_mode": {
    "name": "ipython",
    "version": 3
   },
   "file_extension": ".py",
   "mimetype": "text/x-python",
   "name": "python",
   "nbconvert_exporter": "python",
   "pygments_lexer": "ipython3",
   "version": "3.11.7"
  }
 },
 "nbformat": 4,
 "nbformat_minor": 2
}
