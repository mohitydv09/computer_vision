{
 "cells": [
  {
   "cell_type": "code",
   "execution_count": 1,
   "metadata": {},
   "outputs": [],
   "source": [
    "import os\n",
    "import numpy as np\n",
    "import cv2\n",
    "import matplotlib.pyplot as plt\n",
    "from sklearn.neighbors import NearestNeighbors\n",
    "from sklearn.cluster import KMeans\n",
    "from sklearn.svm import LinearSVC\n",
    "from scipy import stats\n",
    "from pathlib import Path, PureWindowsPath"
   ]
  },
  {
   "cell_type": "code",
   "execution_count": 2,
   "metadata": {},
   "outputs": [],
   "source": [
    "def extract_dataset_info(data_path):\n",
    "    # extract information from train.txt\n",
    "    f = open(os.path.join(data_path, \"train.txt\"), \"r\")\n",
    "    contents_train = f.readlines()\n",
    "    label_classes, label_train_list, img_train_list = [], [], []\n",
    "    for sample in contents_train:\n",
    "        sample = sample.split()\n",
    "        label, img_path = sample[0], sample[1]\n",
    "        if label not in label_classes:\n",
    "            label_classes.append(label)\n",
    "        label_train_list.append(sample[0])\n",
    "        img_train_list.append(os.path.join(data_path, Path(PureWindowsPath(img_path))))\n",
    "    print('Classes: {}'.format(label_classes))\n",
    "\n",
    "    # extract information from test.txt\n",
    "    f = open(os.path.join(data_path, \"test.txt\"), \"r\")\n",
    "    contents_test = f.readlines()\n",
    "    label_test_list, img_test_list = [], []\n",
    "    for sample in contents_test:\n",
    "        sample = sample.split()\n",
    "        label, img_path = sample[0], sample[1]\n",
    "        label_test_list.append(label)\n",
    "        img_test_list.append(os.path.join(data_path, Path(PureWindowsPath(img_path))))  # you can directly use img_path if you run in Windows\n",
    "\n",
    "    return label_classes, label_train_list, img_train_list, label_test_list, img_test_list"
   ]
  },
  {
   "cell_type": "code",
   "execution_count": null,
   "metadata": {},
   "outputs": [],
   "source": [
    "def compute_dsift(img):\n",
    "    # To do\n",
    "    # Create a sift object.\n",
    "    sift = cv2.SIFT_create()\n",
    "    \n",
    "    return dense_feature"
   ]
  },
  {
   "cell_type": "code",
   "execution_count": 10,
   "metadata": {},
   "outputs": [
    {
     "data": {
      "image/png": "[encoded data removed]",
      "text/plain": [
       "<Figure size 250x250 with 1 Axes>"
      ]
     },
     "metadata": {},
     "output_type": "display_data"
    }
   ],
   "source": [
    "def get_tiny_image(img, output_size):\n",
    "    # To do\n",
    "    # img is gray scale image. numpy array.\n",
    "    # output size will be a tuple of size w,h.\n",
    "\n",
    "    hor_window_size = img.shape[1] // output_size[1]\n",
    "    vert_window_size = img.shape[0] // output_size[0]\n",
    "    feature = np.zeros((output_size))\n",
    "    for row in range(output_size[0]):\n",
    "        for col in range(output_size[1]):\n",
    "            # print(\"Item here : \\n\", img[row*vert_window_size :(row+1)*vert_window_size , col*hor_window_size : (col+1)*hor_window_size] )\n",
    "            feature[row,col] = np.mean(img[row*vert_window_size :(row+1)*vert_window_size , col*hor_window_size : (col+1)*hor_window_size])\n",
    "\n",
    "    # feature = feature/(hor_window_size*vert_window_size)\n",
    "    # Normalize the image.\n",
    "\n",
    "    # print(\"Feature without Norm : \", feature)\n",
    "    # print(\"mean of features  : \", np.mean(feature))\n",
    "    # print(\"Max of features : \", np.max(feature))\n",
    "    # print(\"Min of features : \", np.min(feature))\n",
    "    # feature = (feature - np.mean(feature)) / np.std(feature)\n",
    "    # feature = (feature - np.mean(feature)) / np.max(feature)\n",
    "    feature = (feature - np.mean(feature)) / 255\n",
    "    # print(\"Normalization is incomplete check afterwards.\")\n",
    "    # print(\"Feature matrix normalized : \", feature)\n",
    "\n",
    "    return feature\n",
    "\n",
    "img = cv2.imread(\"image_0043.jpg\",0)\n",
    "# plt.imshow(img, cmap='grey')\n",
    "output_size = (16,16)\n",
    "tiny_image = get_tiny_image(img, output_size)\n",
    "fig = plt.figure(figsize=(2.5,2.5))\n",
    "plt.imshow(tiny_image, cmap='grey')\n",
    "\n",
    "# Trial array.\n",
    "flat = np.array([i for i in range(256)])\n",
    "array = flat.reshape((16,16))\n",
    "# plt.imshow(array,cmap='grey')"
   ]
  },
  {
   "cell_type": "code",
   "execution_count": 4,
   "metadata": {},
   "outputs": [],
   "source": [
    "def predict_knn(feature_train, label_train, feature_test, k):\n",
    "    # To do\n",
    "\n",
    "    # Initialize kNN.\n",
    "    neigh = NearestNeighbors(n_neighbors=k)\n",
    "    neigh.fit(feature_train,label_train)\n",
    "\n",
    "    dist, indices = neigh.kneighbors(feature_test)\n",
    "    # print(\"Shape of predict KNN : \", indices.shape)\n",
    "    # print(\"Indices in predict knn : \", indices)\n",
    "    \n",
    "    # label_test_pred = label_train[indices]\n",
    "    label_test_pred = [label_train[i] for i in indices[:,0]]\n",
    "    \n",
    "    return label_test_pred"
   ]
  },
  {
   "cell_type": "code",
   "execution_count": 22,
   "metadata": {},
   "outputs": [
    {
     "name": "stdout",
     "output_type": "stream",
     "text": [
      "Label test Pred :  [13, 15, 11, 13, 11, 15, 15, 11, 5, 14, 14, 13, 6, 10, 11, 10, 13, 15, 14, 15, 13, 5, 12, 13, 13, 6, 15, 3, 15, 13, 12, 13, 15, 12, 13, 12, 12, 13, 8, 13, 12, 5, 15, 13, 14, 12, 15, 15, 14, 13, 12, 6, 5, 8, 3, 1, 1, 12, 15, 12, 15, 11, 13, 11, 3, 15, 14, 14, 11, 12, 3, 14, 9, 12, 11, 1, 6, 11, 5, 13, 14, 13, 9, 12, 11, 13, 8, 14, 14, 12, 15, 1, 15, 13, 15, 15, 4, 6, 1, 14, 4, 12, 13, 13, 15, 15, 12, 12, 15, 15, 11, 14, 11, 6, 15, 13, 13, 6, 13, 13, 10, 15, 13, 9, 12, 13, 11, 12, 12, 13, 11, 12, 6, 6, 11, 12, 13, 15, 3, 15, 13, 13, 12, 13, 13, 12, 10, 13, 5, 15, 12, 14, 13, 13, 13, 13, 13, 12, 11, 15, 15, 14, 15, 15, 11, 15, 14, 6, 14, 12, 11, 4, 12, 14, 13, 9, 6, 15, 11, 15, 6, 13, 15, 15, 13, 4, 9, 13, 13, 15, 8, 15, 7, 9, 12, 15, 13, 2, 11, 9, 11, 11, 11, 6, 13, 12, 5, 13, 13, 13, 12, 11, 5, 15, 4, 14, 15, 8, 14, 12, 4, 11, 13, 14, 13, 12, 10, 11, 3, 12, 3, 3, 14, 3, 13, 11, 14, 9, 13, 4, 11, 3, 13, 11, 13, 3, 9, 11, 10, 12, 11, 13, 12, 6, 12, 11, 12, 14, 11, 13, 13, 3, 13, 15, 15, 3, 5, 11, 13, 13, 14, 15, 11, 11, 11, 13, 3, 12, 14, 3, 5, 15, 14, 12, 15, 11, 10, 12, 3, 11, 12, 3, 12, 11, 12, 14, 6, 15, 11, 3, 5, 4, 4, 4, 14, 11, 13, 15, 8, 4, 13, 13, 5, 14, 15, 11, 11, 4, 15, 13, 11, 3, 13, 10, 13, 11, 13, 1, 6, 15, 14, 13, 4, 13, 13, 5, 14, 13, 12, 12, 11, 4, 13, 13, 3, 13, 13, 6, 5, 15, 11, 11, 11, 15, 9, 11, 5, 10, 13, 15, 12, 13, 11, 11, 8, 11, 2, 13, 10, 4, 14, 12, 15, 11, 13, 14, 13, 11, 11, 14, 13, 13, 11, 15, 12, 12, 13, 15, 13, 11, 13, 10, 9, 12, 11, 12, 6, 5, 11, 15, 15, 13, 5, 15, 4, 5, 11, 15, 15, 12, 13, 6, 12, 3, 12, 4, 15, 11, 13, 9, 3, 15, 5, 11, 3, 13, 9, 13, 11, 11, 13, 12, 5, 12, 11, 15, 6, 12, 15, 13, 13, 5, 13, 15, 11, 13, 15, 3, 2, 11, 13, 11, 5, 8, 11, 9, 10, 11, 13, 14, 11, 5, 5, 5, 15, 5, 15, 9, 13, 11, 13, 11, 15, 12, 15, 11, 11, 13, 12, 11, 13, 5, 13, 9, 1, 15, 5, 12, 12, 13, 13, 12, 13, 13, 11, 6, 6, 5, 6, 13, 13, 9, 13, 11, 12, 13, 13, 9, 10, 13, 13, 13, 11, 13, 11, 11, 11, 13, 11, 4, 10, 11, 12, 11, 11, 5, 6, 11, 13, 15, 11, 14, 11, 12, 13, 12, 13, 12, 11, 12, 11, 13, 11, 11, 11, 6, 9, 11, 15, 9, 11, 13, 13, 9, 12, 12, 9, 13, 12, 13, 11, 12, 11, 3, 4, 13, 9, 11, 13, 11, 11, 13, 12, 9, 12, 11, 11, 12, 12, 11, 8, 14, 9, 13, 3, 12, 12, 3, 15, 12, 13, 3, 13, 15, 12, 11, 8, 13, 12, 11, 13, 3, 3, 15, 11, 13, 12, 9, 10, 15, 11, 7, 7, 11, 14, 14, 12, 7, 10, 10, 11, 7, 8, 11, 13, 7, 11, 12, 11, 11, 14, 12, 1, 11, 3, 4, 4, 4, 11, 11, 13, 14, 10, 15, 7, 7, 10, 12, 10, 15, 8, 14, 15, 1, 14, 13, 15, 7, 14, 11, 12, 7, 12, 3, 7, 10, 12, 12, 10, 15, 7, 7, 10, 13, 12, 13, 15, 7, 10, 5, 10, 10, 15, 10, 5, 12, 15, 12, 10, 11, 13, 7, 14, 6, 12, 10, 11, 14, 8, 14, 11, 15, 8, 11, 1, 12, 15, 12, 13, 9, 5, 12, 12, 6, 12, 11, 15, 15, 15, 15, 15, 13, 11, 13, 15, 14, 13, 13, 11, 15, 13, 13, 15, 13, 12, 12, 1, 12, 11, 15, 13, 12, 13, 8, 13, 13, 15, 12, 15, 11, 11, 12, 3, 12, 6, 6, 14, 15, 15, 13, 15, 8, 15, 8, 8, 13, 6, 12, 10, 13, 10, 15, 13, 15, 15, 4, 6, 15, 11, 6, 15, 5, 13, 6, 11, 14, 10, 6, 11, 15, 13, 11, 13, 11, 13, 13, 11, 11, 14, 14, 12, 9, 5, 9, 13, 12, 14, 13, 6, 6, 9, 5, 12, 15, 4, 13, 10, 14, 8, 9, 15, 11, 12, 13, 15, 9, 13, 14, 4, 9, 15, 3, 9, 6, 13, 11, 9, 15, 9, 5, 13, 13, 9, 9, 10, 11, 4, 9, 12, 11, 13, 15, 9, 11, 11, 15, 15, 12, 4, 11, 13, 13, 12, 15, 13, 13, 12, 8, 15, 13, 13, 11, 14, 11, 13, 13, 12, 11, 10, 11, 11, 13, 15, 14, 9, 4, 12, 5, 13, 15, 15, 13, 11, 13, 15, 13, 9, 4, 12, 15, 10, 15, 10, 13, 14, 14, 10, 10, 13, 15, 1, 3, 11, 15, 11, 11, 5, 8, 11, 11, 9, 12, 15, 12, 13, 13, 10, 12, 10, 13, 12, 13, 12, 15, 6, 10, 13, 6, 10, 14, 10, 10, 15, 10, 15, 12, 12, 7, 8, 10, 10, 12, 15, 15, 15, 15, 14, 15, 10, 15, 10, 9, 10, 12, 15, 8, 5, 11, 10, 10, 10, 10, 10, 14, 10, 10, 10, 10, 10, 10, 10, 10, 10, 5, 14, 10, 10, 13, 12, 10, 12, 15, 11, 10, 11, 15, 11, 5, 11, 14, 12, 13, 13, 11, 12, 11, 13, 11, 11, 11, 13, 13, 13, 11, 11, 12, 13, 12, 11, 13, 12, 1, 10, 12, 11, 11, 12, 11, 13, 13, 11, 11, 11, 11, 13, 11, 11, 11, 11, 11, 11, 11, 11, 11, 11, 13, 13, 11, 13, 11, 11, 11, 13, 11, 11, 11, 12, 13, 11, 11, 11, 11, 11, 13, 11, 11, 11, 11, 11, 11, 11, 11, 11, 12, 13, 11, 11, 11, 13, 11, 12, 11, 11, 11, 12, 11, 13, 11, 11, 11, 11, 11, 11, 13, 12, 11, 12, 11, 11, 13, 13, 13, 6, 13, 11, 11, 12, 11, 11, 13, 12, 12, 12, 13, 13, 11, 13, 13, 12, 12, 13, 12, 12, 12, 13, 11, 12, 11, 12, 12, 12, 12, 14, 12, 13, 13, 12, 10, 13, 14, 13, 12, 13, 12, 12, 14, 12, 13, 12, 12, 11, 4, 12, 14, 12, 13, 12, 13, 12, 12, 15, 13, 15, 12, 10, 12, 10, 13, 13, 13, 12, 11, 12, 12, 13, 11, 12, 12, 8, 11, 12, 11, 13, 13, 13, 11, 13, 15, 13, 11, 12, 13, 11, 11, 13, 11, 13, 13, 12, 11, 9, 13, 13, 12, 10, 7, 12, 13, 15, 8, 13, 12, 13, 12, 13, 12, 13, 13, 8, 13, 3, 13, 13, 12, 11, 12, 12, 15, 14, 6, 13, 13, 13, 9, 12, 13, 13, 11, 13, 12, 13, 12, 11, 12, 13, 13, 12, 13, 12, 8, 11, 13, 6, 13, 13, 12, 13, 8, 13, 12, 13, 13, 12, 12, 14, 12, 13, 15, 13, 12, 14, 11, 12, 11, 11, 13, 12, 2, 12, 13, 11, 12, 13, 13, 13, 12, 8, 14, 13, 13, 12, 12, 9, 11, 12, 13, 15, 15, 13, 11, 13, 14, 15, 14, 14, 12, 14, 12, 12, 13, 15, 6, 14, 13, 8, 6, 13, 13, 15, 14, 15, 13, 11, 13, 12, 12, 11, 13, 14, 15, 12, 12, 14, 13, 12, 12, 15, 5, 14, 6, 13, 13, 3, 12, 13, 14, 13, 8, 13, 12, 11, 14, 9, 13, 14, 8, 12, 13, 12, 10, 14, 14, 11, 12, 12, 8, 11, 10, 13, 14, 14, 11, 10, 13, 12, 11, 15, 13, 13, 15, 13, 12, 12, 14, 1, 13, 11, 11, 11, 4, 12, 12, 13, 14, 11, 13, 13, 13, 11, 11, 13, 14, 12, 14, 15, 15, 12, 15, 12, 4, 6, 12, 12, 12, 12, 12, 15, 12, 12, 15, 9, 13, 12, 12, 14, 12, 12, 11, 13, 11, 15, 15, 15, 11, 15, 6, 6, 12, 12, 13, 6, 11, 15, 15, 15, 12, 15, 14, 12, 15, 13, 6, 6, 8, 12, 12, 12, 15, 12, 13, 13, 15, 13, 15, 11, 13, 12, 14, 15, 15, 13, 13, 3, 12, 15, 14, 15, 10, 11, 15, 14, 6, 13, 12, 13, 10, 14, 13, 13, 4, 10, 15, 13, 15, 6, 13, 9, 12, 15, 13]\n",
      "Max in confution matrix :  0.63\n"
     ]
    },
    {
     "data": {
      "image/png": "[encoded data removed]",
      "text/plain": [
       "<Figure size 640x480 with 1 Axes>"
      ]
     },
     "metadata": {},
     "output_type": "display_data"
    },
    {
     "data": {
      "text/plain": [
       "(array([[0.05, 0.  , 0.04, 0.01, 0.05, 0.05, 0.  , 0.03, 0.02, 0.02, 0.1 ,\n",
       "         0.14, 0.19, 0.12, 0.18],\n",
       "        [0.  , 0.01, 0.01, 0.03, 0.01, 0.07, 0.01, 0.01, 0.05, 0.02, 0.1 ,\n",
       "         0.15, 0.26, 0.06, 0.21],\n",
       "        [0.  , 0.  , 0.13, 0.03, 0.04, 0.03, 0.  , 0.01, 0.02, 0.03, 0.21,\n",
       "         0.15, 0.17, 0.1 , 0.08],\n",
       "        [0.01, 0.01, 0.02, 0.08, 0.06, 0.03, 0.  , 0.02, 0.02, 0.04, 0.2 ,\n",
       "         0.08, 0.25, 0.07, 0.11],\n",
       "        [0.01, 0.01, 0.04, 0.02, 0.13, 0.05, 0.  , 0.01, 0.05, 0.01, 0.18,\n",
       "         0.11, 0.22, 0.01, 0.15],\n",
       "        [0.  , 0.  , 0.04, 0.02, 0.01, 0.02, 0.  , 0.02, 0.09, 0.02, 0.29,\n",
       "         0.19, 0.24, 0.02, 0.04],\n",
       "        [0.02, 0.  , 0.04, 0.03, 0.02, 0.01, 0.14, 0.03, 0.01, 0.15, 0.14,\n",
       "         0.13, 0.08, 0.1 , 0.1 ],\n",
       "        [0.02, 0.  , 0.01, 0.01, 0.02, 0.08, 0.  , 0.05, 0.01, 0.03, 0.15,\n",
       "         0.13, 0.21, 0.05, 0.23],\n",
       "        [0.  , 0.  , 0.01, 0.06, 0.04, 0.03, 0.  , 0.02, 0.15, 0.03, 0.13,\n",
       "         0.11, 0.22, 0.05, 0.15],\n",
       "        [0.01, 0.  , 0.01, 0.  , 0.04, 0.02, 0.01, 0.03, 0.02, 0.34, 0.1 ,\n",
       "         0.11, 0.08, 0.07, 0.16],\n",
       "        [0.01, 0.  , 0.  , 0.  , 0.  , 0.  , 0.  , 0.  , 0.  , 0.01, 0.63,\n",
       "         0.13, 0.22, 0.  , 0.  ],\n",
       "        [0.  , 0.  , 0.  , 0.01, 0.  , 0.01, 0.  , 0.01, 0.  , 0.03, 0.18,\n",
       "         0.37, 0.32, 0.04, 0.03],\n",
       "        [0.  , 0.01, 0.01, 0.  , 0.  , 0.02, 0.01, 0.05, 0.03, 0.01, 0.1 ,\n",
       "         0.28, 0.39, 0.04, 0.05],\n",
       "        [0.01, 0.  , 0.01, 0.01, 0.01, 0.03, 0.  , 0.04, 0.01, 0.03, 0.13,\n",
       "         0.2 , 0.26, 0.18, 0.08],\n",
       "        [0.  , 0.  , 0.01, 0.02, 0.  , 0.08, 0.  , 0.01, 0.02, 0.03, 0.06,\n",
       "         0.26, 0.18, 0.08, 0.25]]),\n",
       " 0.19466666666666668)"
      ]
     },
     "execution_count": 22,
     "metadata": {},
     "output_type": "execute_result"
    }
   ],
   "source": [
    "def classify_knn_tiny(label_classes, label_train_list, img_train_list, label_test_list, img_test_list):\n",
    "    # To do\n",
    "\n",
    "    output_size = (16,16)\n",
    "\n",
    "    # Map labels to integers.\n",
    "    label_map = {key : value+1 for value, key in enumerate(label_classes)}\n",
    "    label_train_int = np.array([label_map[item] for item in label_train_list])\n",
    "    label_test_int = np.array([label_map[item] for item in label_test_list])\n",
    "\n",
    "    label_classes_int = np.array([label_map[item] for item in label_classes])\n",
    "\n",
    "    # Get the tiny image of all the train items.\n",
    "    feature_train = np.zeros((len(img_train_list), output_size[0]*output_size[1]))\n",
    "    for i,path_img in enumerate(img_train_list):\n",
    "        img = cv2.imread(path_img,0) # Read Image, 0 to read as greyscale.\n",
    "        feature_train[i,:] = get_tiny_image(img, output_size).flatten()   # Get features using tiny image funtion.\n",
    "\n",
    "    # Get the tiny image of all the test items.\n",
    "    feature_test = np.zeros((len(img_test_list), output_size[0]*output_size[1]))\n",
    "    for i,path_img in enumerate(img_test_list):\n",
    "        img = cv2.imread(path_img,0) # 0 to read as greyscale.\n",
    "        feature_test[i,:] = get_tiny_image(img, output_size).flatten()\n",
    "    \n",
    "    # Predict labels for the test images.\n",
    "    k_neighbour = 1\n",
    "    label_test_pred = predict_knn(feature_train, label_test_int, feature_test, k_neighbour)\n",
    "\n",
    "    print(\"Label test Pred : \", label_test_pred)\n",
    "\n",
    "    # Make the confusion Matrix.\n",
    "    confusion = np.zeros((len(label_classes), len(label_classes)))\n",
    "    for row,cls in enumerate(label_classes_int):\n",
    "        # Get the indices where test data has this item.(ground truth)\n",
    "        # print(\"Row is : \", row, \" Cls is : \", cls)\n",
    "        indices = np.where(label_test_int == cls)[0]\n",
    "        # print(\"Len of indices in the loop  : \", len(indices))\n",
    "        # Get the predictions for this class of data.\n",
    "        preds_temp = np.array([label_test_pred[i] for i in indices])\n",
    "        # print('preds temps : ', preds_temp)\n",
    "        for col in range(len(label_classes)):\n",
    "            # True label for this is cls.\n",
    "            # confusion[row,col] = np.sum(np.where(preds_temp == label_classes_int[col])) / len(indices)\n",
    "            confusion[row,col] = np.sum(preds_temp == label_classes_int[col]) / len(indices)\n",
    "            # print(\"Confusion Value is : \", confusion[row,col])\n",
    "\n",
    "    # confusion[0,14] = 1\n",
    "    print(\"Max in confution matrix : \", np.max(confusion))\n",
    "    # Find the accuracy as mean of the correct predictions.\n",
    "    accuracy = np.mean(np.diagonal(confusion))\n",
    "\n",
    "    visualize_confusion_matrix(confusion, accuracy, label_classes)\n",
    "\n",
    "    return confusion, accuracy\n",
    "\n",
    "classify_knn_tiny(label_classes, label_train_list, img_train_list, label_test_list, img_test_list)"
   ]
  },
  {
   "cell_type": "code",
   "execution_count": null,
   "metadata": {},
   "outputs": [],
   "source": [
    "def build_visual_dictionary(dense_feature_list, dict_size):\n",
    "    # To do\n",
    "    return vocab"
   ]
  },
  {
   "cell_type": "code",
   "execution_count": null,
   "metadata": {},
   "outputs": [],
   "source": [
    "def compute_bow(feature, vocab):\n",
    "    # To do\n",
    "    return bow_feature"
   ]
  },
  {
   "cell_type": "code",
   "execution_count": null,
   "metadata": {},
   "outputs": [],
   "source": [
    "def classify_knn_bow(label_classes, label_train_list, img_train_list, label_test_list, img_test_list):\n",
    "    # To do\n",
    "    visualize_confusion_matrix(confusion, accuracy, label_classes)\n",
    "    return confusion, accuracy"
   ]
  },
  {
   "cell_type": "code",
   "execution_count": null,
   "metadata": {},
   "outputs": [],
   "source": [
    "def predict_svm(feature_train, label_train, feature_test, n_classes):\n",
    "    # To do\n",
    "    return label_test_pred"
   ]
  },
  {
   "cell_type": "code",
   "execution_count": null,
   "metadata": {},
   "outputs": [],
   "source": [
    "def classify_svm_bow(label_classes, label_train_list, img_train_list, label_test_list, img_test_list):\n",
    "    # To do\n",
    "    visualize_confusion_matrix(confusion, accuracy, label_classes)\n",
    "    return confusion, accuracy"
   ]
  },
  {
   "cell_type": "code",
   "execution_count": 7,
   "metadata": {},
   "outputs": [],
   "source": [
    "def visualize_confusion_matrix(confusion, accuracy, label_classes):\n",
    "    plt.title(\"accuracy = {:.3f}\".format(accuracy))\n",
    "    plt.imshow(confusion)\n",
    "    ax, fig = plt.gca(), plt.gcf()\n",
    "    plt.xticks(np.arange(len(label_classes)), label_classes)\n",
    "    plt.yticks(np.arange(len(label_classes)), label_classes)\n",
    "    # set horizontal alignment mode (left, right or center) and rotation mode(anchor or default)\n",
    "    plt.setp(ax.get_xticklabels(), rotation=-30, ha=\"center\", rotation_mode=\"default\")\n",
    "    # avoid top and bottom part of heatmap been cut\n",
    "    ax.set_xticks(np.arange(len(label_classes) + 1) - .5, minor=True)\n",
    "    ax.set_yticks(np.arange(len(label_classes) + 1) - .5, minor=True)\n",
    "    ax.tick_params(which=\"minor\", bottom=False, left=False)\n",
    "    fig.tight_layout()\n",
    "    plt.show()"
   ]
  },
  {
   "cell_type": "code",
   "execution_count": 5,
   "metadata": {},
   "outputs": [
    {
     "name": "stdout",
     "output_type": "stream",
     "text": [
      "Classes: ['Kitchen', 'Store', 'Bedroom', 'LivingRoom', 'Office', 'Industrial', 'Suburb', 'InsideCity', 'TallBuilding', 'Street', 'Highway', 'OpenCountry', 'Coast', 'Mountain', 'Forest']\n"
     ]
    }
   ],
   "source": [
    "if __name__ == '__main__':\n",
    "    # To do: replace with your dataset path\n",
    "    label_classes, label_train_list, img_train_list, label_test_list, img_test_list = extract_dataset_info(\"./scene_classification_data\")\n",
    "    \n",
    "    # classify_knn_tiny(label_classes, label_train_list, img_train_list, label_test_list, img_test_list)\n",
    "\n",
    "    # classify_knn_bow(label_classes, label_train_list, img_train_list, label_test_list, img_test_list)\n",
    "    \n",
    "    # classify_svm_bow(label_classes, label_train_list, img_train_list, label_test_list, img_test_list)"
   ]
  },
  {
   "cell_type": "code",
   "execution_count": null,
   "metadata": {},
   "outputs": [],
   "source": [
    "print(len(label_classes))\n",
    "type(label_classes)"
   ]
  },
  {
   "cell_type": "code",
   "execution_count": null,
   "metadata": {},
   "outputs": [],
   "source": [
    "print(len(label_train_list))\n",
    "print(label_train_list[0])"
   ]
  },
  {
   "cell_type": "code",
   "execution_count": null,
   "metadata": {},
   "outputs": [],
   "source": [
    "len(label_train_list)"
   ]
  },
  {
   "cell_type": "code",
   "execution_count": null,
   "metadata": {},
   "outputs": [],
   "source": [
    "len(label_test_list)"
   ]
  },
  {
   "cell_type": "code",
   "execution_count": null,
   "metadata": {},
   "outputs": [],
   "source": [
    "len(label_test_list)\n",
    "label_test_list[0]"
   ]
  },
  {
   "cell_type": "code",
   "execution_count": null,
   "metadata": {},
   "outputs": [],
   "source": []
  }
 ],
 "metadata": {
  "kernelspec": {
   "display_name": "base",
   "language": "python",
   "name": "python3"
  },
  "language_info": {
   "codemirror_mode": {
    "name": "ipython",
    "version": 3
   },
   "file_extension": ".py",
   "mimetype": "text/x-python",
   "name": "python",
   "nbconvert_exporter": "python",
   "pygments_lexer": "ipython3",
   "version": "3.11.7"
  }
 },
 "nbformat": 4,
 "nbformat_minor": 2
}
