{
 "cells": [
  {
   "cell_type": "markdown",
   "metadata": {},
   "source": [
    "IMPORT LIBRARIES"
   ]
  },
  {
   "cell_type": "code",
   "execution_count": null,
   "metadata": {},
   "outputs": [],
   "source": [
    "# Import Relevant Libraries\n",
    "import cv2\n",
    "import numpy as np\n",
    "import scipy.io as sio\n",
    "import matplotlib.pyplot as plt\n",
    "from sklearn.neighbors import NearestNeighbors\n",
    "from scipy import interpolate"
   ]
  },
  {
   "cell_type": "code",
   "execution_count": null,
   "metadata": {},
   "outputs": [],
   "source": [
    "def visualize_find_match(img1, img2, x1, x2, img_h=500):\n",
    "    assert x1.shape == x2.shape, 'x1 and x2 should have same shape!'\n",
    "    scale_factor1 = img_h/img1.shape[0]\n",
    "    scale_factor2 = img_h/img2.shape[0]\n",
    "    img1_resized = cv2.resize(img1, None, fx=scale_factor1, fy=scale_factor1)\n",
    "    img2_resized = cv2.resize(img2, None, fx=scale_factor2, fy=scale_factor2)\n",
    "    x1 = x1 * scale_factor1\n",
    "    x2 = x2 * scale_factor2\n",
    "    x2[:, 0] += img1_resized.shape[1]\n",
    "    img = np.hstack((img1_resized, img2_resized))\n",
    "    plt.imshow(img, cmap='gray', vmin=0, vmax=255)\n",
    "    for i in range(x1.shape[0]):\n",
    "        plt.plot([x1[i, 0], x2[i, 0]], [x1[i, 1], x2[i, 1]], 'b')\n",
    "        plt.plot([x1[i, 0], x2[i, 0]], [x1[i, 1], x2[i, 1]], 'bo')\n",
    "    plt.axis('off')\n",
    "    plt.show()"
   ]
  },
  {
   "cell_type": "code",
   "execution_count": null,
   "metadata": {},
   "outputs": [],
   "source": [
    "def visualize_align_image(template, target, A, A_refined, errors=None):\n",
    "    img_warped_init = warp_image(target, A, template.shape)\n",
    "    img_warped_optim = warp_image(target, A_refined, template.shape)\n",
    "    err_img_init = np.abs(img_warped_init - template)\n",
    "    err_img_optim = np.abs(img_warped_optim - template)\n",
    "    img_warped_init = np.uint8(img_warped_init)\n",
    "    img_warped_optim = np.uint8(img_warped_optim)\n",
    "    overlay_init = cv2.addWeighted(template, 0.5, img_warped_init, 0.5, 0)\n",
    "    overlay_optim = cv2.addWeighted(template, 0.5, img_warped_optim, 0.5, 0)\n",
    "    plt.subplot(241)\n",
    "    plt.imshow(template, cmap='gray')\n",
    "    plt.title('Template')\n",
    "    plt.axis('off')\n",
    "    plt.subplot(242)\n",
    "    plt.imshow(img_warped_init, cmap='gray')\n",
    "    plt.title('Initial warp')\n",
    "    plt.axis('off')\n",
    "    plt.subplot(243)\n",
    "    plt.imshow(overlay_init, cmap='gray')\n",
    "    plt.title('Overlay')\n",
    "    plt.axis('off')\n",
    "    plt.subplot(244)\n",
    "    plt.imshow(err_img_init, cmap='jet')\n",
    "    plt.title('Error map')\n",
    "    plt.axis('off')\n",
    "    plt.subplot(245)\n",
    "    plt.imshow(template, cmap='gray')\n",
    "    plt.title('Template')\n",
    "    plt.axis('off')\n",
    "    plt.subplot(246)\n",
    "    plt.imshow(img_warped_optim, cmap='gray')\n",
    "    plt.title('Opt. warp')\n",
    "    plt.axis('off')\n",
    "    plt.subplot(247)\n",
    "    plt.imshow(overlay_optim, cmap='gray')\n",
    "    plt.title('Overlay')\n",
    "    plt.axis('off')\n",
    "    plt.subplot(248)\n",
    "    plt.imshow(err_img_optim, cmap='jet')\n",
    "    plt.title('Error map')\n",
    "    plt.axis('off')\n",
    "    plt.show()\n",
    "\n",
    "    if errors is not None:\n",
    "        plt.plot(errors * 255)\n",
    "        plt.xlabel('Iteration')\n",
    "        plt.ylabel('Error')\n",
    "        plt.show()"
   ]
  },
  {
   "cell_type": "code",
   "execution_count": null,
   "metadata": {},
   "outputs": [],
   "source": [
    "def visualize_track_multi_frames(template, img_list, A_list):\n",
    "    bbox_list = []\n",
    "    for A in A_list:\n",
    "        boundary_t = np.hstack((np.array([[0, 0], [template.shape[1], 0], [template.shape[1], template.shape[0]],\n",
    "                                        [0, template.shape[0]], [0, 0]]), np.ones((5, 1)))) @ A[:2, :].T\n",
    "        bbox_list.append(boundary_t)\n",
    "\n",
    "    plt.subplot(221)\n",
    "    plt.imshow(img_list[0], cmap='gray')\n",
    "    plt.plot(bbox_list[0][:, 0], bbox_list[0][:, 1], 'r')\n",
    "    plt.title('Frame 1')\n",
    "    plt.axis('off')\n",
    "    plt.subplot(222)\n",
    "    plt.imshow(img_list[1], cmap='gray')\n",
    "    plt.plot(bbox_list[1][:, 0], bbox_list[1][:, 1], 'r')\n",
    "    plt.title('Frame 2')\n",
    "    plt.axis('off')\n",
    "    plt.subplot(223)\n",
    "    plt.imshow(img_list[2], cmap='gray')\n",
    "    plt.plot(bbox_list[2][:, 0], bbox_list[2][:, 1], 'r')\n",
    "    plt.title('Frame 3')\n",
    "    plt.axis('off')\n",
    "    plt.subplot(224)\n",
    "    plt.imshow(img_list[3], cmap='gray')\n",
    "    plt.plot(bbox_list[3][:, 0], bbox_list[3][:, 1], 'r')\n",
    "    plt.title('Frame 4')\n",
    "    plt.axis('off')\n",
    "    plt.show()"
   ]
  },
  {
   "cell_type": "markdown",
   "metadata": {},
   "source": [
    "if __name__ == '__main__':\n",
    "    template = cv2.imread('./JS_template.jpg', 0)  # read as grey scale image\n",
    "    target_list = []\n",
    "    for i in range(4):\n",
    "        target = cv2.imread('./JS_target{}.jpg'.format(i+1), 0)  # read as grey scale image\n",
    "        target_list.append(target)\n",
    "\n",
    "    x1, x2 = find_match(template, target_list[0])\n",
    "    visualize_find_match(template, target_list[0], x1, x2)\n",
    "\n",
    "    A = align_image_using_feature(x1, x2, ransac_thr, ransac_iter)\n",
    "\n",
    "    img_warped = warp_image(target_list[0], A, template.shape)\n",
    "    plt.imshow(img_warped, cmap='gray', vmin=0, vmax=255)\n",
    "    plt.axis('off')\n",
    "    plt.show()\n",
    "\n",
    "    A_refined, errors = align_image(template, target_list[0], A)\n",
    "    visualize_align_image(template, target_list[0], A, A_refined, errors)\n",
    "\n",
    "    A_list = track_multi_frames(template, target_list)\n",
    "    visualize_track_multi_frames(template, target_list, A_list)"
   ]
  },
  {
   "cell_type": "code",
   "execution_count": null,
   "metadata": {},
   "outputs": [],
   "source": [
    "def find_match(img1, img2):\n",
    "    # To do\n",
    "    return x1, x2"
   ]
  },
  {
   "cell_type": "code",
   "execution_count": null,
   "metadata": {},
   "outputs": [],
   "source": [
    "def align_image_using_feature(x1, x2, ransac_thr, ransac_iter):\n",
    "    # To do\n",
    "    return A"
   ]
  },
  {
   "cell_type": "code",
   "execution_count": null,
   "metadata": {},
   "outputs": [],
   "source": [
    "\n",
    "def warp_image(img, A, output_size):\n",
    "    # To do\n",
    "    return img_warped"
   ]
  },
  {
   "cell_type": "code",
   "execution_count": null,
   "metadata": {},
   "outputs": [],
   "source": [
    "def align_image(template, target, A):\n",
    "    # To do\n",
    "    return A_refined"
   ]
  },
  {
   "cell_type": "code",
   "execution_count": 1,
   "metadata": {},
   "outputs": [],
   "source": [
    "def track_multi_frames(template, img_list):\n",
    "    # To do\n",
    "    return A_list"
   ]
  },
  {
   "cell_type": "code",
   "execution_count": null,
   "metadata": {},
   "outputs": [],
   "source": []
  }
 ],
 "metadata": {
  "kernelspec": {
   "display_name": "base",
   "language": "python",
   "name": "python3"
  },
  "language_info": {
   "codemirror_mode": {
    "name": "ipython",
    "version": 3
   },
   "file_extension": ".py",
   "mimetype": "text/x-python",
   "name": "python",
   "nbconvert_exporter": "python",
   "pygments_lexer": "ipython3",
   "version": "3.11.7"
  }
 },
 "nbformat": 4,
 "nbformat_minor": 2
}
