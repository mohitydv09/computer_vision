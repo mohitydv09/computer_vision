{
 "cells": [
  {
   "cell_type": "code",
   "execution_count": 67,
   "metadata": {},
   "outputs": [],
   "source": [
    "import cv2\n",
    "import numpy as np\n",
    "import os\n",
    "import time\n",
    "import scipy.io as sio\n",
    "import matplotlib.pyplot as plt\n",
    "import math\n",
    "# import main_functions as main"
   ]
  },
  {
   "cell_type": "code",
   "execution_count": 68,
   "metadata": {},
   "outputs": [
    {
     "data": {
      "text/plain": [
       "<matplotlib.image.AxesImage at 0x156ace950>"
      ]
     },
     "execution_count": 68,
     "metadata": {},
     "output_type": "execute_result"
    },
    {
     "data": {
      "image/png": "[encoded data removed]",
      "text/plain": [
       "<Figure size 640x480 with 1 Axes>"
      ]
     },
     "metadata": {},
     "output_type": "display_data"
    }
   ],
   "source": [
    "## Add for Visualization.\n",
    "mnist_train = sio.loadmat('./mnist_train.mat')\n",
    "mnist_test = sio.loadmat('./mnist_test.mat')\n",
    "im_train, label_train = mnist_train['im_train'], mnist_train['label_train']\n",
    "im_test, label_test = mnist_test['im_test'], mnist_test['label_test']\n",
    "\n",
    "np.random.seed(42)\n",
    "\n",
    "plt.imshow(mnist_train['im_train'][:, 0].reshape((14, 14), order='F'), cmap='gray')"
   ]
  },
  {
   "cell_type": "code",
   "execution_count": 143,
   "metadata": {},
   "outputs": [],
   "source": [
    "def get_mini_batch(im_train, label_train, batch_size):\n",
    "    # TO DO\n",
    "    ## One hot encode the labels.\n",
    "    label_train_encoded = np.eye(10)[label_train[0]].T\n",
    "\n",
    "    ## Get shuffled indices.\n",
    "    np.random.seed(39)\n",
    "    random_indices = np.random.permutation(label_train.shape[1])\n",
    "\n",
    "    ## Get the Mini Batches, numpy automatically takes care of the last batch\n",
    "    mini_batch_x = [im_train[:,random_indices[i*batch_size:(i+1)*batch_size]] for i in range(math.ceil(im_train.shape[1]/batch_size))]\n",
    "    mini_batch_y = [label_train_encoded[:,random_indices[i*batch_size:(i+1)*batch_size]] for i in range(math.ceil(im_train.shape[1]/batch_size))]\n",
    "    \n",
    "    return mini_batch_x, mini_batch_y"
   ]
  },
  {
   "cell_type": "code",
   "execution_count": 70,
   "metadata": {},
   "outputs": [],
   "source": [
    "def fc(x, w, b):\n",
    "    # TO DO\n",
    "    y = w@x + b\n",
    "    return y"
   ]
  },
  {
   "cell_type": "code",
   "execution_count": 71,
   "metadata": {},
   "outputs": [],
   "source": [
    "def fc_backward(dl_dy, x, w, b, y):\n",
    "    # TO DO\n",
    "    dl_dw = dl_dy @ x.T\n",
    "    dl_db = dl_dy\n",
    "    dl_dx = w.T @ dl_dy\n",
    "    \n",
    "    return dl_dx, dl_dw, dl_db"
   ]
  },
  {
   "cell_type": "code",
   "execution_count": 72,
   "metadata": {},
   "outputs": [],
   "source": [
    "def loss_euclidean(y_tilde, y):\n",
    "    # TO DO\n",
    "    l = np.sum(np.square(y_tilde - y))\n",
    "    dl_dy = 2*(y_tilde - y)\n",
    "    \n",
    "    return l, dl_dy"
   ]
  },
  {
   "cell_type": "code",
   "execution_count": 163,
   "metadata": {},
   "outputs": [],
   "source": [
    "def loss_cross_entropy_softmax(x, y):\n",
    "    # TO DO\n",
    "\n",
    "    ## Apply Softmax layer.\n",
    "    y_telda = np.exp(x)/np.sum(np.exp(x))\n",
    "\n",
    "    # Get the solfmax loss.\n",
    "    l = -np.sum(y*np.log(y_telda))\n",
    "\n",
    "    # Gradient of loss wrt prediction.\n",
    "    dl_dy_telda = -y/y_telda\n",
    "\n",
    "    # Gradient of loss wrt input x.\n",
    "    class_index = np.argmax(y == 1)   ## Return a array.\n",
    "    f_i = y_telda[class_index]\n",
    "\n",
    "    dy_dx = -y_telda*f_i\n",
    "    dy_dx[class_index] = f_i * (1 - f_i)\n",
    "\n",
    "    ## Set the return value.\n",
    "    dl_dy = dl_dy_telda*dy_dx\n",
    "    # print(\"Shape of dl_dy : \", dl_dy.shape)\n",
    "    return l, dl_dy"
   ]
  },
  {
   "cell_type": "code",
   "execution_count": 74,
   "metadata": {},
   "outputs": [],
   "source": [
    "def relu(x):\n",
    "    # TO DO\n",
    "    x[x < 0] = 0\n",
    "    y = x\n",
    "    return y"
   ]
  },
  {
   "cell_type": "code",
   "execution_count": 75,
   "metadata": {},
   "outputs": [],
   "source": [
    "def relu_backward(dl_dy, x, y):\n",
    "    # TO DO\n",
    "    return dl_dx"
   ]
  },
  {
   "cell_type": "code",
   "execution_count": 76,
   "metadata": {},
   "outputs": [],
   "source": [
    "def conv(x, w_conv, b_conv):\n",
    "    # TO DO\n",
    "    return y"
   ]
  },
  {
   "cell_type": "code",
   "execution_count": 77,
   "metadata": {},
   "outputs": [],
   "source": [
    "def conv_backward(dl_dy, x, w_conv, b_conv, y):\n",
    "    # TO DO\n",
    "    return dl_dw, dl_db"
   ]
  },
  {
   "cell_type": "code",
   "execution_count": 78,
   "metadata": {},
   "outputs": [],
   "source": [
    "def pool2x2(x):\n",
    "    # TO DO\n",
    "    return y"
   ]
  },
  {
   "cell_type": "code",
   "execution_count": 79,
   "metadata": {},
   "outputs": [],
   "source": [
    "def pool2x2_backward(dl_dy, x, y):\n",
    "    # TO DO\n",
    "    return dl_dx"
   ]
  },
  {
   "cell_type": "code",
   "execution_count": 80,
   "metadata": {},
   "outputs": [],
   "source": [
    "def flattening(x):\n",
    "    # TO DO\n",
    "    return y"
   ]
  },
  {
   "cell_type": "code",
   "execution_count": 81,
   "metadata": {},
   "outputs": [],
   "source": [
    "def flattening_backward(dl_dy, x, y):\n",
    "    # TO DO\n",
    "    return dl_dx"
   ]
  },
  {
   "cell_type": "code",
   "execution_count": 88,
   "metadata": {},
   "outputs": [],
   "source": [
    "def train_slp_linear(mini_batch_x, mini_batch_y):\n",
    "    # TO DO\n",
    "    learning_rate = 0.1\n",
    "    decay_rate = 0.5\n",
    "\n",
    "    ## Initialize Weights.\n",
    "    input_size = mini_batch_x[0].shape[0]\n",
    "    output_size = mini_batch_y[0].shape[0]\n",
    "    w = np.random.randn(output_size,input_size)\n",
    "    b = np.random.randn(output_size,1)\n",
    "\n",
    "    k = 0\n",
    "    losses = []\n",
    "    for iter in range(10000):\n",
    "        if iter%1000 == 0:\n",
    "            print(\"Iteration Number is : \", iter, \" Loss is : \", losses[-1] if len(losses) > 0 else 0)\n",
    "            learning_rate = learning_rate*decay_rate\n",
    "        dl_dw_batch = np.zeros_like(w)\n",
    "        dl_db_batch = np.zeros_like(b)\n",
    "        loss_cum = 0\n",
    "        for x, y in zip(mini_batch_x[k].T, mini_batch_y[k].T):\n",
    "            x = x.reshape(-1,1)\n",
    "            y = y.reshape(-1,1)\n",
    "\n",
    "            ## Forward pass.\n",
    "            y_tilde = fc(x, w, b)\n",
    "\n",
    "            ## Compute Loss.\n",
    "            loss, dl_dy = loss_euclidean(y_tilde, y)   ## dl_dy is columns\n",
    "\n",
    "            ## Compute Gradients.\n",
    "            dl_dx, dl_dw, dl_db = fc_backward(dl_dy, x, w, b, y)\n",
    "\n",
    "            ## Add to the gradients of batch.\n",
    "            dl_dw_batch += dl_dw\n",
    "            dl_db_batch += dl_db\n",
    "            loss_cum += loss\n",
    "\n",
    "        losses.append(loss_cum)\n",
    "        k += 1\n",
    "        if k == len(mini_batch_x):\n",
    "            k = 0\n",
    "        ## Update weights\n",
    "        w -= (learning_rate/len(mini_batch_x[0]))*dl_dw_batch\n",
    "        b -= (learning_rate/len(mini_batch_x[0]))*dl_db_batch\n",
    "    plt.plot(np.arange(len(losses)), losses)\n",
    "    plt.show()\n",
    "    return w, b"
   ]
  },
  {
   "cell_type": "code",
   "execution_count": 164,
   "metadata": {},
   "outputs": [],
   "source": [
    "def train_slp(mini_batch_x, mini_batch_y):\n",
    "    # TO DO\n",
    "    learning_rate = 1\n",
    "    decay_rate = 0.7\n",
    "\n",
    "    ## Initialize Weights.\n",
    "    input_size = mini_batch_x[0].shape[0]\n",
    "    output_size = mini_batch_y[0].shape[0]\n",
    "    w = np.random.randn(output_size,input_size)\n",
    "    b = np.random.randn(output_size,1)\n",
    "\n",
    "    k = 0\n",
    "    losses = []\n",
    "    for iter in range(1001):\n",
    "        if iter%1000 == 0:\n",
    "            print(\"Iteration Number is : \", iter, \" Loss is : \", losses[-1] if len(losses) > 0 else 0)\n",
    "            learning_rate = learning_rate*decay_rate\n",
    "        dl_dw_batch = np.zeros_like(w)\n",
    "        dl_db_batch = np.zeros_like(b)\n",
    "        loss_cum = 0\n",
    "        for x, y in zip(mini_batch_x[k].T, mini_batch_y[k].T):\n",
    "            x = x.reshape(-1,1)\n",
    "            y = y.reshape(-1,1)\n",
    "\n",
    "            ## Forward pass.\n",
    "            y_tilde = fc(x, w, b)\n",
    "\n",
    "            ## Compute Loss.\n",
    "            loss, dl_dy = loss_cross_entropy_softmax(y_tilde, y)   ## dl_dy is columns\n",
    "\n",
    "            ## Compute Gradients.\n",
    "            dl_dx, dl_dw, dl_db = fc_backward(dl_dy, x, w, b, y)\n",
    "\n",
    "            ## Add to the gradients of batch.\n",
    "            dl_dw_batch += dl_dw\n",
    "            dl_db_batch += dl_db\n",
    "            loss_cum += loss\n",
    "        #     break\n",
    "        # break\n",
    "\n",
    "        losses.append(loss_cum)\n",
    "        k += 1\n",
    "        if k == len(mini_batch_x):\n",
    "            k = 0\n",
    "        ## Update weights\n",
    "        w -= (learning_rate/len(mini_batch_x[0]))*dl_dw_batch\n",
    "        b -= (learning_rate/len(mini_batch_x[0]))*dl_db_batch\n",
    "    plt.plot(np.arange(len(losses)), losses)\n",
    "    plt.show()\n",
    "    return w, b"
   ]
  },
  {
   "cell_type": "code",
   "execution_count": 165,
   "metadata": {},
   "outputs": [
    {
     "name": "stdout",
     "output_type": "stream",
     "text": [
      "Iteration Number is :  0  Loss is :  0\n",
      "Iteration Number is :  1000  Loss is :  27.126481669826926\n"
     ]
    },
    {
     "data": {
      "image/png": "[encoded data removed]",
      "text/plain": [
       "<Figure size 640x480 with 1 Axes>"
      ]
     },
     "metadata": {},
     "output_type": "display_data"
    },
    {
     "data": {
      "image/png": "[encoded data removed]",
      "text/plain": [
       "<Figure size 640x480 with 1 Axes>"
      ]
     },
     "metadata": {},
     "output_type": "display_data"
    }
   ],
   "source": [
    "if __name__ == '__main__':\n",
    "    # main_slp_linear()\n",
    "    main_slp()\n",
    "    # main_mlp()\n",
    "    # main_cnn()"
   ]
  },
  {
   "cell_type": "code",
   "execution_count": null,
   "metadata": {},
   "outputs": [],
   "source": [
    "def train_mlp(mini_batch_x, mini_batch_y):\n",
    "    # TO DO\n",
    "    return w1, b1, w2, b2"
   ]
  },
  {
   "cell_type": "code",
   "execution_count": null,
   "metadata": {},
   "outputs": [],
   "source": [
    "def train_cnn(mini_batch_x, mini_batch_y):\n",
    "    # TO DO\n",
    "    return w_conv, b_conv, w_fc, b_fc"
   ]
  },
  {
   "cell_type": "code",
   "execution_count": 83,
   "metadata": {},
   "outputs": [],
   "source": [
    "import scipy.io as sio\n",
    "import matplotlib.pyplot as plt\n",
    "import numpy as np\n",
    "# from cnn import get_mini_batch, fc, relu, conv, pool2x2, flattening\n",
    "# from cnn import train_slp_linear, train_slp, train_mlp, train_cnn\n",
    "\n",
    "\n",
    "def main_slp_linear():\n",
    "    mnist_train = sio.loadmat('./mnist_train.mat')\n",
    "    mnist_test = sio.loadmat('./mnist_test.mat')\n",
    "    im_train, label_train = mnist_train['im_train'], mnist_train['label_train']\n",
    "    im_test, label_test = mnist_test['im_test'], mnist_test['label_test']\n",
    "    batch_size = 32\n",
    "    im_train, im_test = im_train / 255.0, im_test / 255.0\n",
    "    mini_batch_x, mini_batch_y = get_mini_batch(im_train, label_train, batch_size)\n",
    "    w, b = train_slp_linear(mini_batch_x, mini_batch_y)\n",
    "    sio.savemat('slp_linear.mat', mdict={'w': w, 'b': b})\n",
    "\n",
    "    acc = 0\n",
    "    confusion = np.zeros((10, 10))\n",
    "    num_test = im_test.shape[1]\n",
    "    for i in range(num_test):\n",
    "        x = im_test[:, [i]]\n",
    "        y = fc(x, w, b)\n",
    "        l_pred = np.argmax(y)\n",
    "        confusion[l_pred, label_test[0, i]] = confusion[l_pred, label_test[0, i]] + 1\n",
    "\n",
    "        if l_pred == label_test[0, i]:\n",
    "            acc = acc + 1\n",
    "    accuracy = acc / num_test\n",
    "    for i in range(10):\n",
    "        confusion[:, i] = confusion[:, i] / np.sum(confusion[:, i])\n",
    "\n",
    "    label_classes = ['0', '1', '2', '3', '4', '5', '6', '7', '8', '9']\n",
    "    visualize_confusion_matrix(confusion, accuracy, label_classes, 'Single-layer Linear Perceptron Confusion Matrix')\n",
    "\n",
    "def main_slp():\n",
    "    mnist_train = sio.loadmat('./mnist_train.mat')\n",
    "    mnist_test = sio.loadmat('./mnist_test.mat')\n",
    "    im_train, label_train = mnist_train['im_train'], mnist_train['label_train']\n",
    "    im_test, label_test = mnist_test['im_test'], mnist_test['label_test']\n",
    "    batch_size = 32\n",
    "    im_train, im_test = im_train / 255.0, im_test / 255.0\n",
    "    mini_batch_x, mini_batch_y = get_mini_batch(im_train, label_train, batch_size)\n",
    "    w, b = train_slp(mini_batch_x, mini_batch_y)\n",
    "    sio.savemat('slp.mat', mdict={'w': w, 'b': b})\n",
    "\n",
    "    acc = 0\n",
    "    confusion = np.zeros((10, 10))\n",
    "    num_test = im_test.shape[1]\n",
    "    for i in range(num_test):\n",
    "        x = im_test[:, [i]]\n",
    "        y = fc(x, w, b)\n",
    "        l_pred = np.argmax(y)\n",
    "        confusion[l_pred, label_test[0, i]] = confusion[l_pred, label_test[0, i]] + 1\n",
    "\n",
    "        if l_pred == label_test[0, i]:\n",
    "            acc = acc + 1\n",
    "    accuracy = acc / num_test\n",
    "    for i in range(10):\n",
    "        confusion[:, i] = confusion[:, i] / np.sum(confusion[:, i])\n",
    "\n",
    "    label_classes = ['0', '1', '2', '3', '4', '5', '6', '7', '8', '9']\n",
    "    visualize_confusion_matrix(confusion, accuracy, label_classes, 'Single-layer Perceptron Confusion Matrix')\n",
    "\n",
    "def main_mlp():\n",
    "    mnist_train = sio.loadmat('./mnist_train.mat')\n",
    "    mnist_test = sio.loadmat('./mnist_test.mat')\n",
    "    im_train, label_train = mnist_train['im_train'], mnist_train['label_train']\n",
    "    im_test, label_test = mnist_test['im_test'], mnist_test['label_test']\n",
    "    batch_size = 32\n",
    "    im_train, im_test = im_train / 255.0, im_test / 255.0\n",
    "    mini_batch_x, mini_batch_y = get_mini_batch(im_train, label_train, batch_size)\n",
    "    w1, b1, w2, b2 = train_mlp(mini_batch_x, mini_batch_y)\n",
    "    sio.savemat('mlp.mat', mdict={'w1': w1, 'b1': b1, 'w2': w2, 'b2': b2})\n",
    "\n",
    "    acc = 0\n",
    "    confusion = np.zeros((10, 10))\n",
    "    num_test = im_test.shape[1]\n",
    "    for i in range(num_test):\n",
    "        x = im_test[:, [i]]\n",
    "        pred1 = fc(x, w1, b1)\n",
    "        pred2 = relu(pred1)\n",
    "        y = fc(pred2, w2, b2)\n",
    "        l_pred = np.argmax(y)\n",
    "        confusion[l_pred, label_test[0, i]] = confusion[l_pred, label_test[0, i]] + 1\n",
    "\n",
    "        if l_pred == label_test[0, i]:\n",
    "            acc = acc + 1\n",
    "    accuracy = acc / num_test\n",
    "    for i in range(10):\n",
    "        confusion[:, i] = confusion[:, i] / np.sum(confusion[:, i])\n",
    "\n",
    "    label_classes = ['0', '1', '2', '3', '4', '5', '6', '7', '8', '9']\n",
    "    visualize_confusion_matrix(confusion, accuracy, label_classes, 'Multi-layer Perceptron Confusion Matrix')\n",
    "\n",
    "def main_cnn():\n",
    "    mnist_train = sio.loadmat('./mnist_train.mat')\n",
    "    mnist_test = sio.loadmat('./mnist_test.mat')\n",
    "    im_train, label_train = mnist_train['im_train'], mnist_train['label_train']\n",
    "    im_test, label_test = mnist_test['im_test'], mnist_test['label_test']\n",
    "    batch_size = 32\n",
    "    im_train, im_test = im_train / 255.0, im_test / 255.0\n",
    "    mini_batch_x, mini_batch_y = get_mini_batch(im_train, label_train, batch_size)\n",
    "    w_conv, b_conv, w_fc, b_fc = train_cnn(mini_batch_x, mini_batch_y)\n",
    "    sio.savemat('cnn.mat', mdict={'w_conv': w_conv, 'b_conv': b_conv, 'w_fc': w_fc, 'b_fc': b_fc})\n",
    "    # could use following two lines to replace above two lines if only want to check results\n",
    "    # data = sio.loadmat('cnn.mat')\n",
    "    # w_conv, b_conv, w_fc, b_fc = data['w_conv'], data['b_conv'], data['w_fc'], data['b_fc']\n",
    "    \n",
    "    acc = 0\n",
    "    confusion = np.zeros((10, 10))\n",
    "    num_test = im_test.shape[1]\n",
    "    for i in range(num_test):\n",
    "        x = im_test[:, [i]].reshape((14, 14, 1), order='F')\n",
    "        pred1 = conv(x, w_conv, b_conv)  # (14, 14, 3)\n",
    "        pred2 = relu(pred1)  # (14, 14, 3)\n",
    "        pred3 = pool2x2(pred2)  # (7, 7, 3)\n",
    "        pred4 = flattening(pred3)  # (147, 1)\n",
    "        y = fc(pred4, w_fc, b_fc)  # (10, 1)\n",
    "        l_pred = np.argmax(y)\n",
    "        confusion[l_pred, label_test[0, i]] = confusion[l_pred, label_test[0, i]] + 1\n",
    "        if l_pred == label_test[0, i]:\n",
    "            acc = acc + 1\n",
    "    accuracy = acc / num_test\n",
    "    for i in range(10):\n",
    "        confusion[:, i] = confusion[:, i] / np.sum(confusion[:, i])\n",
    "\n",
    "    label_classes = ['0', '1', '2', '3', '4', '5', '6', '7', '8', '9']\n",
    "    visualize_confusion_matrix(confusion, accuracy, label_classes, 'CNN Confusion Matrix')\n",
    "\n",
    "def visualize_confusion_matrix(confusion, accuracy, label_classes, name):\n",
    "    plt.title(\"{}, accuracy = {:.3f}\".format(name, accuracy))\n",
    "    plt.imshow(confusion)\n",
    "    ax, fig = plt.gca(), plt.gcf()\n",
    "    plt.xticks(np.arange(len(label_classes)), label_classes)\n",
    "    plt.yticks(np.arange(len(label_classes)), label_classes)\n",
    "    ax.set_xticks(np.arange(len(label_classes) + 1) - .5, minor=True)\n",
    "    ax.set_yticks(np.arange(len(label_classes) + 1) - .5, minor=True)\n",
    "    ax.tick_params(which=\"minor\", bottom=False, left=False)\n",
    "    plt.show()\n"
   ]
  },
  {
   "cell_type": "code",
   "execution_count": null,
   "metadata": {},
   "outputs": [],
   "source": [
    "# if __name__ == '__main__':\n",
    "#     main.main_slp_linear()\n",
    "#     main.main_slp()\n",
    "#     main.main_mlp()\n",
    "#     main.main_cnn()"
   ]
  },
  {
   "cell_type": "code",
   "execution_count": null,
   "metadata": {},
   "outputs": [],
   "source": []
  }
 ],
 "metadata": {
  "kernelspec": {
   "display_name": "base",
   "language": "python",
   "name": "python3"
  },
  "language_info": {
   "codemirror_mode": {
    "name": "ipython",
    "version": 3
   },
   "file_extension": ".py",
   "mimetype": "text/x-python",
   "name": "python",
   "nbconvert_exporter": "python",
   "pygments_lexer": "ipython3",
   "version": "3.10.13"
  }
 },
 "nbformat": 4,
 "nbformat_minor": 2
}
